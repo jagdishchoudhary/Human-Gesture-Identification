{
  "nbformat": 4,
  "nbformat_minor": 0,
  "metadata": {
    "colab": {
      "name": "Copy of GaitCyclePred_IK_data.ipynb",
      "provenance": [],
      "collapsed_sections": []
    },
    "kernelspec": {
      "name": "python3",
      "display_name": "Python 3"
    },
    "language_info": {
      "name": "python"
    }
  },
  "cells": [
    {
      "cell_type": "code",
      "metadata": {
        "colab": {
          "base_uri": "https://localhost:8080/"
        },
        "id": "w4iZykWYZby0",
        "outputId": "e1241994-d5a3-4614-9adb-e134417079d3"
      },
      "source": [
        "from google.colab import drive\n",
        "drive.mount('/content/drive')"
      ],
      "execution_count": null,
      "outputs": [
        {
          "output_type": "stream",
          "text": [
            "Mounted at /content/drive\n"
          ],
          "name": "stdout"
        }
      ]
    },
    {
      "cell_type": "code",
      "metadata": {
        "id": "ZbSkcnRznLK5"
      },
      "source": [
        "# load the dataset\n",
        "data = open('/content/drive/MyDrive/MinorProject/subject01_walk1_ik.mot')"
      ],
      "execution_count": null,
      "outputs": []
    },
    {
      "cell_type": "code",
      "metadata": {
        "id": "ToF4HeSYkJKd"
      },
      "source": [
        "import numpy as np\n",
        "import matplotlib.pyplot as plt\n",
        "import pandas as pd\n",
        "import math\n",
        "from keras.models import Sequential\n",
        "from keras.layers import Dense\n",
        "from keras.layers import LSTM\n",
        "from sklearn.preprocessing import MinMaxScaler\n",
        "from sklearn.metrics import mean_squared_error"
      ],
      "execution_count": null,
      "outputs": []
    },
    {
      "cell_type": "code",
      "metadata": {
        "id": "fjK1mS4_nTMb"
      },
      "source": [
        "data = data.readlines()"
      ],
      "execution_count": null,
      "outputs": []
    },
    {
      "cell_type": "code",
      "metadata": {
        "id": "F3We_8BwZ2KK"
      },
      "source": [
        "data"
      ],
      "execution_count": null,
      "outputs": []
    },
    {
      "cell_type": "code",
      "metadata": {
        "id": "VuOoZPXJakQz"
      },
      "source": [
        "headers = data[10].split('\\t')"
      ],
      "execution_count": null,
      "outputs": []
    },
    {
      "cell_type": "code",
      "metadata": {
        "colab": {
          "base_uri": "https://localhost:8080/"
        },
        "id": "ZuoUkTSHakNR",
        "outputId": "8febd52b-16ca-4274-8ac4-eb2c5e9a643a"
      },
      "source": [
        "headers"
      ],
      "execution_count": null,
      "outputs": [
        {
          "output_type": "execute_result",
          "data": {
            "text/plain": [
              "['time',\n",
              " 'pelvis_tilt',\n",
              " 'pelvis_list',\n",
              " 'pelvis_rotation',\n",
              " 'pelvis_tx',\n",
              " 'pelvis_ty',\n",
              " 'pelvis_tz',\n",
              " 'hip_flexion_r',\n",
              " 'hip_adduction_r',\n",
              " 'hip_rotation_r',\n",
              " 'knee_angle_r',\n",
              " 'ankle_angle_r',\n",
              " 'subtalar_angle_r',\n",
              " 'mtp_angle_r',\n",
              " 'hip_flexion_l',\n",
              " 'hip_adduction_l',\n",
              " 'hip_rotation_l',\n",
              " 'knee_angle_l',\n",
              " 'ankle_angle_l',\n",
              " 'subtalar_angle_l',\n",
              " 'mtp_angle_l',\n",
              " 'lumbar_extension',\n",
              " 'lumbar_bending',\n",
              " 'lumbar_rotation\\n']"
            ]
          },
          "metadata": {
            "tags": []
          },
          "execution_count": 8
        }
      ]
    },
    {
      "cell_type": "code",
      "metadata": {
        "id": "-1GCl1uon2pd"
      },
      "source": [
        "hip_l = []\n",
        "hip_r = []\n",
        "knee_l = []\n",
        "knee_r = []\n",
        "ankle_l = []\n",
        "ankle_r = []\n",
        "time = []\n",
        "\n",
        "for i in range(11,len(data)):\n",
        "  tmp = data[i].split('\\t')\n",
        "  time.append(tmp[0])\n",
        "  hip_r.append(tmp[7])\n",
        "  knee_r.append(tmp[10])\n",
        "  ankle_r.append(tmp[11])\n",
        "  hip_l.append(tmp[14])\n",
        "  knee_l.append(tmp[17])\n",
        "  ankle_l.append(tmp[18])"
      ],
      "execution_count": null,
      "outputs": []
    },
    {
      "cell_type": "code",
      "metadata": {
        "colab": {
          "base_uri": "https://localhost:8080/"
        },
        "id": "VWjcvB4MeSOF",
        "outputId": "0f30c9ca-e674-4b55-b29f-8a4ec880e428"
      },
      "source": [
        "hip_r"
      ],
      "execution_count": null,
      "outputs": [
        {
          "output_type": "execute_result",
          "data": {
            "text/plain": [
              "['     20.01810174',\n",
              " '     20.47637723',\n",
              " '     20.79106998',\n",
              " '     20.59068147',\n",
              " '     20.54892710',\n",
              " '     19.88677694',\n",
              " '     19.29340437',\n",
              " '     18.74544079',\n",
              " '     18.19344446',\n",
              " '     17.72372645',\n",
              " '     17.63128857',\n",
              " '     17.74833716',\n",
              " '     17.97079785',\n",
              " '     18.60892857',\n",
              " '     19.29527419',\n",
              " '     20.08813956',\n",
              " '     20.78989355',\n",
              " '     21.44000176',\n",
              " '     21.52044497',\n",
              " '     21.12066465',\n",
              " '     20.84985462',\n",
              " '     20.13267105',\n",
              " '     19.44668490',\n",
              " '     18.50691499',\n",
              " '     17.41384468',\n",
              " '     15.85375835',\n",
              " '     14.28025803',\n",
              " '     12.48261686',\n",
              " '     10.65247567',\n",
              " '      8.83184480',\n",
              " '      6.83266332',\n",
              " '      5.01331390',\n",
              " '      3.08625197',\n",
              " '      1.89281683',\n",
              " '      0.56775533',\n",
              " '     -1.41037472',\n",
              " '     -2.82540871',\n",
              " '     -4.27623510',\n",
              " '     -5.79700882',\n",
              " '     -7.39397466',\n",
              " '     -8.65078118',\n",
              " '    -10.03790436',\n",
              " '    -11.47191303',\n",
              " '    -12.79549323',\n",
              " '    -14.03426232',\n",
              " '    -15.62397211',\n",
              " '    -17.13341139',\n",
              " '    -18.52147277',\n",
              " '    -19.72502869',\n",
              " '    -20.67785312',\n",
              " '    -21.43848547',\n",
              " '    -21.87434024',\n",
              " '    -21.97879071',\n",
              " '    -21.51475794',\n",
              " '    -21.20859110',\n",
              " '    -20.57789408',\n",
              " '    -19.52073956',\n",
              " '    -18.18191078',\n",
              " '    -16.08713946',\n",
              " '    -13.32938654',\n",
              " '    -10.28908672',\n",
              " '     -7.48319622',\n",
              " '     -4.42401834',\n",
              " '     -1.58952916',\n",
              " '      0.84027602',\n",
              " '      3.22278648',\n",
              " '      5.71924436',\n",
              " '      7.90755693',\n",
              " '      9.97479930',\n",
              " '     12.35422220',\n",
              " '     13.99907905',\n",
              " '     15.73939687',\n",
              " '     17.10246448']"
            ]
          },
          "metadata": {
            "tags": []
          },
          "execution_count": 10
        }
      ]
    },
    {
      "cell_type": "code",
      "metadata": {
        "id": "MWUOTZEgoEOa"
      },
      "source": [
        "hip_l = np.array(hip_l,dtype = float)\n",
        "hip_r = np.array(hip_r,dtype = float)\n",
        "knee_l = np.array(knee_l,dtype=float)\n",
        "knee_r = np.array(knee_r,dtype = float)\n",
        "ankle_l = np.array(ankle_l,dtype = float)\n",
        "ankle_r = np.array(ankle_r,dtype = float)\n",
        "time = np.array(time,dtype = float)"
      ],
      "execution_count": null,
      "outputs": []
    },
    {
      "cell_type": "code",
      "metadata": {
        "colab": {
          "base_uri": "https://localhost:8080/",
          "height": 404
        },
        "id": "SjSeWQjaoJaX",
        "outputId": "7456dc89-6b1c-45b1-8cbf-5eafb3506127"
      },
      "source": [
        "plt.figure(figsize = (12,6))\n",
        "plt.plot(time,knee_l)\n",
        "plt.plot(time,knee_r)\n",
        "plt.title('Knee')\n",
        "plt.xlabel('Time')\n",
        "plt.ylabel('Angle')\n",
        "plt.legend(['Left Knee','Right Knee'])\n",
        "plt.show()"
      ],
      "execution_count": null,
      "outputs": [
        {
          "output_type": "display_data",
          "data": {
            "image/png": "[encoded data removed]",
            "text/plain": [
              "<Figure size 864x432 with 1 Axes>"
            ]
          },
          "metadata": {
            "tags": [],
            "needs_background": "light"
          }
        }
      ]
    },
    {
      "cell_type": "code",
      "metadata": {
        "colab": {
          "base_uri": "https://localhost:8080/",
          "height": 404
        },
        "id": "NpD4s4ohdfxI",
        "outputId": "2eb8ae41-7599-45cc-9093-a26b4cca90b7"
      },
      "source": [
        "plt.figure(figsize = (12,6))\n",
        "plt.plot(time,ankle_l)\n",
        "plt.plot(time,ankle_r)\n",
        "plt.title('Ankle')\n",
        "plt.xlabel('Time')\n",
        "plt.ylabel('Angle')\n",
        "plt.legend(['Left Ankle','Right Ankle'])\n",
        "plt.show()"
      ],
      "execution_count": null,
      "outputs": [
        {
          "output_type": "display_data",
          "data": {
            "image/png": "[encoded data removed]",
            "text/plain": [
              "<Figure size 864x432 with 1 Axes>"
            ]
          },
          "metadata": {
            "tags": [],
            "needs_background": "light"
          }
        }
      ]
    },
    {
      "cell_type": "code",
      "metadata": {
        "colab": {
          "base_uri": "https://localhost:8080/",
          "height": 404
        },
        "id": "Yqi7oIH2dfjo",
        "outputId": "e76355dc-876e-47a0-85c1-aa2e2e562726"
      },
      "source": [
        "plt.figure(figsize = (12,6))\n",
        "plt.plot(time,hip_l)\n",
        "plt.plot(time,hip_r)\n",
        "plt.title('Hip')\n",
        "plt.xlabel('Time')\n",
        "plt.ylabel('Angle')\n",
        "plt.legend(['Left Hip','Right Hip'])\n",
        "plt.show()"
      ],
      "execution_count": null,
      "outputs": [
        {
          "output_type": "display_data",
          "data": {
            "image/png": "[encoded data removed]",
            "text/plain": [
              "<Figure size 864x432 with 1 Axes>"
            ]
          },
          "metadata": {
            "tags": [],
            "needs_background": "light"
          }
        }
      ]
    },
    {
      "cell_type": "code",
      "metadata": {
        "id": "57tuDuA9oZBx"
      },
      "source": [
        "d = {'time':time,'knee_r':knee_r}\n",
        "dataframe = pd.DataFrame(data = d)"
      ],
      "execution_count": null,
      "outputs": []
    },
    {
      "cell_type": "code",
      "metadata": {
        "colab": {
          "base_uri": "https://localhost:8080/",
          "height": 402
        },
        "id": "oKztnHG9o76t",
        "outputId": "8caf091b-ebe1-4761-cb38-97fd87d49ccf"
      },
      "source": [
        "dataframe"
      ],
      "execution_count": null,
      "outputs": [
        {
          "output_type": "execute_result",
          "data": {
            "text/html": [
              "<div>\n",
              "<style scoped>\n",
              "    .dataframe tbody tr th:only-of-type {\n",
              "        vertical-align: middle;\n",
              "    }\n",
              "\n",
              "    .dataframe tbody tr th {\n",
              "        vertical-align: top;\n",
              "    }\n",
              "\n",
              "    .dataframe thead th {\n",
              "        text-align: right;\n",
              "    }\n",
              "</style>\n",
              "<table border=\"1\" class=\"dataframe\">\n",
              "  <thead>\n",
              "    <tr style=\"text-align: right;\">\n",
              "      <th></th>\n",
              "      <th>time</th>\n",
              "      <th>knee_r</th>\n",
              "    </tr>\n",
              "  </thead>\n",
              "  <tbody>\n",
              "    <tr>\n",
              "      <th>0</th>\n",
              "      <td>0.400000</td>\n",
              "      <td>-54.919823</td>\n",
              "    </tr>\n",
              "    <tr>\n",
              "      <th>1</th>\n",
              "      <td>0.416667</td>\n",
              "      <td>-50.007087</td>\n",
              "    </tr>\n",
              "    <tr>\n",
              "      <th>2</th>\n",
              "      <td>0.433333</td>\n",
              "      <td>-44.626732</td>\n",
              "    </tr>\n",
              "    <tr>\n",
              "      <th>3</th>\n",
              "      <td>0.450000</td>\n",
              "      <td>-38.769752</td>\n",
              "    </tr>\n",
              "    <tr>\n",
              "      <th>4</th>\n",
              "      <td>0.466667</td>\n",
              "      <td>-32.634932</td>\n",
              "    </tr>\n",
              "    <tr>\n",
              "      <th>...</th>\n",
              "      <td>...</td>\n",
              "      <td>...</td>\n",
              "    </tr>\n",
              "    <tr>\n",
              "      <th>68</th>\n",
              "      <td>1.533333</td>\n",
              "      <td>-69.566914</td>\n",
              "    </tr>\n",
              "    <tr>\n",
              "      <th>69</th>\n",
              "      <td>1.550000</td>\n",
              "      <td>-69.211678</td>\n",
              "    </tr>\n",
              "    <tr>\n",
              "      <th>70</th>\n",
              "      <td>1.566667</td>\n",
              "      <td>-67.725239</td>\n",
              "    </tr>\n",
              "    <tr>\n",
              "      <th>71</th>\n",
              "      <td>1.583333</td>\n",
              "      <td>-65.687458</td>\n",
              "    </tr>\n",
              "    <tr>\n",
              "      <th>72</th>\n",
              "      <td>1.600000</td>\n",
              "      <td>-62.858097</td>\n",
              "    </tr>\n",
              "  </tbody>\n",
              "</table>\n",
              "<p>73 rows × 2 columns</p>\n",
              "</div>"
            ],
            "text/plain": [
              "        time     knee_r\n",
              "0   0.400000 -54.919823\n",
              "1   0.416667 -50.007087\n",
              "2   0.433333 -44.626732\n",
              "3   0.450000 -38.769752\n",
              "4   0.466667 -32.634932\n",
              "..       ...        ...\n",
              "68  1.533333 -69.566914\n",
              "69  1.550000 -69.211678\n",
              "70  1.566667 -67.725239\n",
              "71  1.583333 -65.687458\n",
              "72  1.600000 -62.858097\n",
              "\n",
              "[73 rows x 2 columns]"
            ]
          },
          "metadata": {
            "tags": []
          },
          "execution_count": 46
        }
      ]
    },
    {
      "cell_type": "code",
      "metadata": {
        "id": "BHyS5YrOptoY"
      },
      "source": [
        "dataset = dataframe['knee_r'].values"
      ],
      "execution_count": null,
      "outputs": []
    },
    {
      "cell_type": "code",
      "metadata": {
        "id": "F3lT0Rewp5wK"
      },
      "source": [
        "dataset = dataset.reshape((-1,1))"
      ],
      "execution_count": null,
      "outputs": []
    },
    {
      "cell_type": "code",
      "metadata": {
        "id": "l8OqFznGo935"
      },
      "source": [
        "# normalize the dataset\n",
        "scaler = MinMaxScaler(feature_range=(0, 1))\n",
        "dataset = scaler.fit_transform(dataset)"
      ],
      "execution_count": null,
      "outputs": []
    },
    {
      "cell_type": "code",
      "metadata": {
        "colab": {
          "base_uri": "https://localhost:8080/"
        },
        "id": "NRj0XHY1p-lB",
        "outputId": "b469c3ea-877e-4de5-c7c6-034eb4a8bb18"
      },
      "source": [
        "# split into train and test sets\n",
        "train_size = int(len(dataset) * 0.67)\n",
        "test_size = len(dataset) - train_size\n",
        "train, test = dataset[0:train_size,:], dataset[train_size:len(dataset),:]\n",
        "print(len(train), len(test))"
      ],
      "execution_count": null,
      "outputs": [
        {
          "output_type": "stream",
          "text": [
            "48 25\n"
          ],
          "name": "stdout"
        }
      ]
    },
    {
      "cell_type": "code",
      "metadata": {
        "id": "Y0r2lLLyrHSj"
      },
      "source": [
        "# convert an array of values into a dataset matrix\n",
        "def create_dataset(dataset, look_back=1):\n",
        "\tdataX, dataY = [], []\n",
        "\tfor i in range(len(dataset)-look_back-1):\n",
        "\t\ta = dataset[i:(i+look_back), 0]\n",
        "\t\tdataX.append(a)\n",
        "\t\tdataY.append(dataset[i + look_back, 0])\n",
        "\treturn np.array(dataX), np.array(dataY)"
      ],
      "execution_count": null,
      "outputs": []
    },
    {
      "cell_type": "code",
      "metadata": {
        "id": "LZJXDGDrre5P"
      },
      "source": [
        "# reshape into X=t and Y=t+1\n",
        "look_back = 1\n",
        "trainX, trainY = create_dataset(train, look_back)\n",
        "testX, testY = create_dataset(test, look_back)"
      ],
      "execution_count": null,
      "outputs": []
    },
    {
      "cell_type": "code",
      "metadata": {
        "colab": {
          "base_uri": "https://localhost:8080/"
        },
        "id": "ZDrpc22kRbSj",
        "outputId": "b5167bb6-2ca4-4087-efbd-fc480cecad1f"
      },
      "source": [
        "print(trainX.shape,trainY.shape)\n",
        "print(trainX)"
      ],
      "execution_count": null,
      "outputs": [
        {
          "output_type": "stream",
          "text": [
            "(46, 1) (46,)\n",
            "[[0.20495993]\n",
            " [0.27370491]\n",
            " [0.34899338]\n",
            " [0.43095138]\n",
            " [0.51679726]\n",
            " [0.61165266]\n",
            " [0.70552611]\n",
            " [0.7938109 ]\n",
            " [0.87255214]\n",
            " [0.93752941]\n",
            " [0.97889795]\n",
            " [1.        ]\n",
            " [0.99890514]\n",
            " [0.97517108]\n",
            " [0.93749401]\n",
            " [0.8931384 ]\n",
            " [0.84866183]\n",
            " [0.79826727]\n",
            " [0.75173019]\n",
            " [0.7182318 ]\n",
            " [0.68774043]\n",
            " [0.66899044]\n",
            " [0.65499818]\n",
            " [0.65054674]\n",
            " [0.64827209]\n",
            " [0.6568636 ]\n",
            " [0.66572371]\n",
            " [0.68071031]\n",
            " [0.69391721]\n",
            " [0.71325861]\n",
            " [0.7317574 ]\n",
            " [0.7506704 ]\n",
            " [0.77237027]\n",
            " [0.78289398]\n",
            " [0.79671004]\n",
            " [0.81483913]\n",
            " [0.82438635]\n",
            " [0.8349516 ]\n",
            " [0.8481799 ]\n",
            " [0.85981035]\n",
            " [0.86970318]\n",
            " [0.8803311 ]\n",
            " [0.89225867]\n",
            " [0.90056935]\n",
            " [0.90451405]\n",
            " [0.91001217]]\n"
          ],
          "name": "stdout"
        }
      ]
    },
    {
      "cell_type": "code",
      "metadata": {
        "colab": {
          "base_uri": "https://localhost:8080/"
        },
        "id": "kKdSV65HybDP",
        "outputId": "9554616d-9462-4501-dd40-096b1c96c2b6"
      },
      "source": [
        "print(trainY)"
      ],
      "execution_count": null,
      "outputs": [
        {
          "output_type": "stream",
          "text": [
            "[0.27370491 0.34899338 0.43095138 0.51679726 0.61165266 0.70552611\n",
            " 0.7938109  0.87255214 0.93752941 0.97889795 1.         0.99890514\n",
            " 0.97517108 0.93749401 0.8931384  0.84866183 0.79826727 0.75173019\n",
            " 0.7182318  0.68774043 0.66899044 0.65499818 0.65054674 0.64827209\n",
            " 0.6568636  0.66572371 0.68071031 0.69391721 0.71325861 0.7317574\n",
            " 0.7506704  0.77237027 0.78289398 0.79671004 0.81483913 0.82438635\n",
            " 0.8349516  0.8481799  0.85981035 0.86970318 0.8803311  0.89225867\n",
            " 0.90056935 0.90451405 0.91001217 0.91608136]\n"
          ],
          "name": "stdout"
        }
      ]
    },
    {
      "cell_type": "code",
      "metadata": {
        "id": "3nwbNzkQroHp"
      },
      "source": [
        "# reshape input to be [samples, time steps, features]\n",
        "trainX = np.reshape(trainX, (trainX.shape[0], 1, trainX.shape[1]))\n",
        "testX = np.reshape(testX, (testX.shape[0], 1, testX.shape[1]))"
      ],
      "execution_count": null,
      "outputs": []
    },
    {
      "cell_type": "code",
      "metadata": {
        "colab": {
          "base_uri": "https://localhost:8080/"
        },
        "id": "VVwE9Fw_R1l-",
        "outputId": "9b507931-0b80-4a3b-cb48-30235c491090"
      },
      "source": [
        "print(trainX.shape)"
      ],
      "execution_count": null,
      "outputs": [
        {
          "output_type": "stream",
          "text": [
            "(46, 1, 1)\n"
          ],
          "name": "stdout"
        }
      ]
    },
    {
      "cell_type": "code",
      "metadata": {
        "colab": {
          "base_uri": "https://localhost:8080/"
        },
        "id": "A7GiVH7zruRB",
        "outputId": "532734b6-0c04-43ce-c1ba-730910355cf9"
      },
      "source": [
        "# create and fit the LSTM network\n",
        "model = Sequential()\n",
        "model.add(LSTM(50, activation = 'relu',input_shape=(1, look_back)))\n",
        "model.add(Dense(1))\n",
        "model.compile(loss='mean_squared_error', optimizer='adam',metrics = ['accuracy'])\n",
        "history = model.fit(trainX, trainY,validation_data=(testX,testY), epochs=100, batch_size=1, verbose=2)"
      ],
      "execution_count": null,
      "outputs": [
        {
          "output_type": "stream",
          "text": [
            "Epoch 1/100\n",
            "46/46 - 1s - loss: 0.4978 - accuracy: 0.0000e+00 - val_loss: 0.1620 - val_accuracy: 0.0435\n",
            "Epoch 2/100\n",
            "46/46 - 0s - loss: 0.2859 - accuracy: 0.0000e+00 - val_loss: 0.0821 - val_accuracy: 0.0435\n",
            "Epoch 3/100\n",
            "46/46 - 0s - loss: 0.1100 - accuracy: 0.0217 - val_loss: 0.0489 - val_accuracy: 0.0435\n",
            "Epoch 4/100\n",
            "46/46 - 0s - loss: 0.0216 - accuracy: 0.0217 - val_loss: 0.0632 - val_accuracy: 0.0435\n",
            "Epoch 5/100\n",
            "46/46 - 0s - loss: 0.0048 - accuracy: 0.0217 - val_loss: 0.0712 - val_accuracy: 0.0435\n",
            "Epoch 6/100\n",
            "46/46 - 0s - loss: 0.0044 - accuracy: 0.0217 - val_loss: 0.0715 - val_accuracy: 0.0435\n",
            "Epoch 7/100\n",
            "46/46 - 0s - loss: 0.0043 - accuracy: 0.0217 - val_loss: 0.0705 - val_accuracy: 0.0435\n",
            "Epoch 8/100\n",
            "46/46 - 0s - loss: 0.0041 - accuracy: 0.0217 - val_loss: 0.0693 - val_accuracy: 0.0435\n",
            "Epoch 9/100\n",
            "46/46 - 0s - loss: 0.0041 - accuracy: 0.0217 - val_loss: 0.0690 - val_accuracy: 0.0435\n",
            "Epoch 10/100\n",
            "46/46 - 0s - loss: 0.0040 - accuracy: 0.0217 - val_loss: 0.0666 - val_accuracy: 0.0435\n",
            "Epoch 11/100\n",
            "46/46 - 0s - loss: 0.0039 - accuracy: 0.0217 - val_loss: 0.0633 - val_accuracy: 0.0435\n",
            "Epoch 12/100\n",
            "46/46 - 0s - loss: 0.0037 - accuracy: 0.0217 - val_loss: 0.0629 - val_accuracy: 0.0435\n",
            "Epoch 13/100\n",
            "46/46 - 0s - loss: 0.0035 - accuracy: 0.0217 - val_loss: 0.0609 - val_accuracy: 0.0435\n",
            "Epoch 14/100\n",
            "46/46 - 0s - loss: 0.0034 - accuracy: 0.0217 - val_loss: 0.0599 - val_accuracy: 0.0435\n",
            "Epoch 15/100\n",
            "46/46 - 0s - loss: 0.0033 - accuracy: 0.0217 - val_loss: 0.0582 - val_accuracy: 0.0435\n",
            "Epoch 16/100\n",
            "46/46 - 0s - loss: 0.0033 - accuracy: 0.0217 - val_loss: 0.0590 - val_accuracy: 0.0435\n",
            "Epoch 17/100\n",
            "46/46 - 0s - loss: 0.0031 - accuracy: 0.0217 - val_loss: 0.0570 - val_accuracy: 0.0435\n",
            "Epoch 18/100\n",
            "46/46 - 0s - loss: 0.0030 - accuracy: 0.0217 - val_loss: 0.0543 - val_accuracy: 0.0435\n",
            "Epoch 19/100\n",
            "46/46 - 0s - loss: 0.0028 - accuracy: 0.0217 - val_loss: 0.0525 - val_accuracy: 0.0435\n",
            "Epoch 20/100\n",
            "46/46 - 0s - loss: 0.0028 - accuracy: 0.0217 - val_loss: 0.0534 - val_accuracy: 0.0435\n",
            "Epoch 21/100\n",
            "46/46 - 0s - loss: 0.0026 - accuracy: 0.0217 - val_loss: 0.0494 - val_accuracy: 0.0435\n",
            "Epoch 22/100\n",
            "46/46 - 0s - loss: 0.0026 - accuracy: 0.0217 - val_loss: 0.0505 - val_accuracy: 0.0435\n",
            "Epoch 23/100\n",
            "46/46 - 0s - loss: 0.0024 - accuracy: 0.0217 - val_loss: 0.0473 - val_accuracy: 0.0435\n",
            "Epoch 24/100\n",
            "46/46 - 0s - loss: 0.0023 - accuracy: 0.0217 - val_loss: 0.0445 - val_accuracy: 0.0435\n",
            "Epoch 25/100\n",
            "46/46 - 0s - loss: 0.0022 - accuracy: 0.0217 - val_loss: 0.0467 - val_accuracy: 0.0435\n",
            "Epoch 26/100\n",
            "46/46 - 0s - loss: 0.0023 - accuracy: 0.0217 - val_loss: 0.0435 - val_accuracy: 0.0435\n",
            "Epoch 27/100\n",
            "46/46 - 0s - loss: 0.0021 - accuracy: 0.0217 - val_loss: 0.0442 - val_accuracy: 0.0435\n",
            "Epoch 28/100\n",
            "46/46 - 0s - loss: 0.0021 - accuracy: 0.0217 - val_loss: 0.0422 - val_accuracy: 0.0435\n",
            "Epoch 29/100\n",
            "46/46 - 0s - loss: 0.0019 - accuracy: 0.0217 - val_loss: 0.0398 - val_accuracy: 0.0435\n",
            "Epoch 30/100\n",
            "46/46 - 0s - loss: 0.0019 - accuracy: 0.0217 - val_loss: 0.0385 - val_accuracy: 0.0435\n",
            "Epoch 31/100\n",
            "46/46 - 0s - loss: 0.0018 - accuracy: 0.0217 - val_loss: 0.0355 - val_accuracy: 0.0435\n",
            "Epoch 32/100\n",
            "46/46 - 0s - loss: 0.0018 - accuracy: 0.0217 - val_loss: 0.0363 - val_accuracy: 0.0435\n",
            "Epoch 33/100\n",
            "46/46 - 0s - loss: 0.0016 - accuracy: 0.0217 - val_loss: 0.0354 - val_accuracy: 0.0435\n",
            "Epoch 34/100\n",
            "46/46 - 0s - loss: 0.0016 - accuracy: 0.0217 - val_loss: 0.0341 - val_accuracy: 0.0435\n",
            "Epoch 35/100\n",
            "46/46 - 0s - loss: 0.0016 - accuracy: 0.0217 - val_loss: 0.0328 - val_accuracy: 0.0435\n",
            "Epoch 36/100\n",
            "46/46 - 0s - loss: 0.0015 - accuracy: 0.0217 - val_loss: 0.0327 - val_accuracy: 0.0435\n",
            "Epoch 37/100\n",
            "46/46 - 0s - loss: 0.0015 - accuracy: 0.0217 - val_loss: 0.0326 - val_accuracy: 0.0435\n",
            "Epoch 38/100\n",
            "46/46 - 0s - loss: 0.0014 - accuracy: 0.0217 - val_loss: 0.0311 - val_accuracy: 0.0435\n",
            "Epoch 39/100\n",
            "46/46 - 0s - loss: 0.0014 - accuracy: 0.0217 - val_loss: 0.0297 - val_accuracy: 0.0435\n",
            "Epoch 40/100\n",
            "46/46 - 0s - loss: 0.0014 - accuracy: 0.0217 - val_loss: 0.0301 - val_accuracy: 0.0435\n",
            "Epoch 41/100\n",
            "46/46 - 0s - loss: 0.0013 - accuracy: 0.0217 - val_loss: 0.0295 - val_accuracy: 0.0435\n",
            "Epoch 42/100\n",
            "46/46 - 0s - loss: 0.0014 - accuracy: 0.0217 - val_loss: 0.0270 - val_accuracy: 0.0435\n",
            "Epoch 43/100\n",
            "46/46 - 0s - loss: 0.0013 - accuracy: 0.0217 - val_loss: 0.0274 - val_accuracy: 0.0435\n",
            "Epoch 44/100\n",
            "46/46 - 0s - loss: 0.0013 - accuracy: 0.0217 - val_loss: 0.0278 - val_accuracy: 0.0435\n",
            "Epoch 45/100\n",
            "46/46 - 0s - loss: 0.0013 - accuracy: 0.0217 - val_loss: 0.0282 - val_accuracy: 0.0435\n",
            "Epoch 46/100\n",
            "46/46 - 0s - loss: 0.0013 - accuracy: 0.0217 - val_loss: 0.0260 - val_accuracy: 0.0435\n",
            "Epoch 47/100\n",
            "46/46 - 0s - loss: 0.0012 - accuracy: 0.0217 - val_loss: 0.0242 - val_accuracy: 0.0435\n",
            "Epoch 48/100\n",
            "46/46 - 0s - loss: 0.0012 - accuracy: 0.0217 - val_loss: 0.0250 - val_accuracy: 0.0435\n",
            "Epoch 49/100\n",
            "46/46 - 0s - loss: 0.0013 - accuracy: 0.0217 - val_loss: 0.0249 - val_accuracy: 0.0435\n",
            "Epoch 50/100\n",
            "46/46 - 0s - loss: 0.0011 - accuracy: 0.0217 - val_loss: 0.0236 - val_accuracy: 0.0435\n",
            "Epoch 51/100\n",
            "46/46 - 0s - loss: 0.0012 - accuracy: 0.0217 - val_loss: 0.0236 - val_accuracy: 0.0435\n",
            "Epoch 52/100\n",
            "46/46 - 0s - loss: 0.0011 - accuracy: 0.0217 - val_loss: 0.0206 - val_accuracy: 0.0435\n",
            "Epoch 53/100\n",
            "46/46 - 0s - loss: 0.0013 - accuracy: 0.0217 - val_loss: 0.0233 - val_accuracy: 0.0435\n",
            "Epoch 54/100\n",
            "46/46 - 0s - loss: 0.0012 - accuracy: 0.0217 - val_loss: 0.0222 - val_accuracy: 0.0435\n",
            "Epoch 55/100\n",
            "46/46 - 0s - loss: 0.0011 - accuracy: 0.0217 - val_loss: 0.0224 - val_accuracy: 0.0435\n",
            "Epoch 56/100\n",
            "46/46 - 0s - loss: 0.0012 - accuracy: 0.0217 - val_loss: 0.0222 - val_accuracy: 0.0435\n",
            "Epoch 57/100\n",
            "46/46 - 0s - loss: 0.0012 - accuracy: 0.0217 - val_loss: 0.0233 - val_accuracy: 0.0435\n",
            "Epoch 58/100\n",
            "46/46 - 0s - loss: 0.0012 - accuracy: 0.0217 - val_loss: 0.0214 - val_accuracy: 0.0435\n",
            "Epoch 59/100\n",
            "46/46 - 0s - loss: 0.0012 - accuracy: 0.0217 - val_loss: 0.0207 - val_accuracy: 0.0435\n",
            "Epoch 60/100\n",
            "46/46 - 0s - loss: 0.0011 - accuracy: 0.0217 - val_loss: 0.0235 - val_accuracy: 0.0435\n",
            "Epoch 61/100\n",
            "46/46 - 0s - loss: 0.0012 - accuracy: 0.0217 - val_loss: 0.0221 - val_accuracy: 0.0435\n",
            "Epoch 62/100\n",
            "46/46 - 0s - loss: 0.0013 - accuracy: 0.0217 - val_loss: 0.0208 - val_accuracy: 0.0435\n",
            "Epoch 63/100\n",
            "46/46 - 0s - loss: 0.0011 - accuracy: 0.0217 - val_loss: 0.0210 - val_accuracy: 0.0435\n",
            "Epoch 64/100\n",
            "46/46 - 0s - loss: 0.0012 - accuracy: 0.0217 - val_loss: 0.0213 - val_accuracy: 0.0435\n",
            "Epoch 65/100\n",
            "46/46 - 0s - loss: 0.0011 - accuracy: 0.0217 - val_loss: 0.0191 - val_accuracy: 0.0435\n",
            "Epoch 66/100\n",
            "46/46 - 0s - loss: 0.0012 - accuracy: 0.0217 - val_loss: 0.0177 - val_accuracy: 0.0435\n",
            "Epoch 67/100\n",
            "46/46 - 0s - loss: 0.0013 - accuracy: 0.0217 - val_loss: 0.0193 - val_accuracy: 0.0435\n",
            "Epoch 68/100\n",
            "46/46 - 0s - loss: 0.0011 - accuracy: 0.0217 - val_loss: 0.0201 - val_accuracy: 0.0435\n",
            "Epoch 69/100\n",
            "46/46 - 0s - loss: 0.0011 - accuracy: 0.0217 - val_loss: 0.0202 - val_accuracy: 0.0435\n",
            "Epoch 70/100\n",
            "46/46 - 0s - loss: 0.0012 - accuracy: 0.0217 - val_loss: 0.0218 - val_accuracy: 0.0435\n",
            "Epoch 71/100\n",
            "46/46 - 0s - loss: 0.0013 - accuracy: 0.0217 - val_loss: 0.0219 - val_accuracy: 0.0435\n",
            "Epoch 72/100\n",
            "46/46 - 0s - loss: 0.0011 - accuracy: 0.0217 - val_loss: 0.0177 - val_accuracy: 0.0435\n",
            "Epoch 73/100\n",
            "46/46 - 0s - loss: 0.0011 - accuracy: 0.0217 - val_loss: 0.0190 - val_accuracy: 0.0435\n",
            "Epoch 74/100\n",
            "46/46 - 0s - loss: 0.0012 - accuracy: 0.0217 - val_loss: 0.0209 - val_accuracy: 0.0435\n",
            "Epoch 75/100\n",
            "46/46 - 0s - loss: 0.0012 - accuracy: 0.0217 - val_loss: 0.0183 - val_accuracy: 0.0435\n",
            "Epoch 76/100\n",
            "46/46 - 0s - loss: 0.0013 - accuracy: 0.0217 - val_loss: 0.0191 - val_accuracy: 0.0435\n",
            "Epoch 77/100\n",
            "46/46 - 0s - loss: 0.0012 - accuracy: 0.0217 - val_loss: 0.0201 - val_accuracy: 0.0435\n",
            "Epoch 78/100\n",
            "46/46 - 0s - loss: 0.0012 - accuracy: 0.0217 - val_loss: 0.0193 - val_accuracy: 0.0435\n",
            "Epoch 79/100\n",
            "46/46 - 0s - loss: 0.0011 - accuracy: 0.0217 - val_loss: 0.0211 - val_accuracy: 0.0435\n",
            "Epoch 80/100\n",
            "46/46 - 0s - loss: 0.0012 - accuracy: 0.0217 - val_loss: 0.0197 - val_accuracy: 0.0435\n",
            "Epoch 81/100\n",
            "46/46 - 0s - loss: 0.0011 - accuracy: 0.0217 - val_loss: 0.0191 - val_accuracy: 0.0435\n",
            "Epoch 82/100\n",
            "46/46 - 0s - loss: 0.0012 - accuracy: 0.0217 - val_loss: 0.0191 - val_accuracy: 0.0435\n",
            "Epoch 83/100\n",
            "46/46 - 0s - loss: 0.0011 - accuracy: 0.0217 - val_loss: 0.0185 - val_accuracy: 0.0435\n",
            "Epoch 84/100\n",
            "46/46 - 0s - loss: 0.0011 - accuracy: 0.0217 - val_loss: 0.0189 - val_accuracy: 0.0435\n",
            "Epoch 85/100\n",
            "46/46 - 0s - loss: 0.0012 - accuracy: 0.0217 - val_loss: 0.0182 - val_accuracy: 0.0435\n",
            "Epoch 86/100\n",
            "46/46 - 0s - loss: 0.0012 - accuracy: 0.0217 - val_loss: 0.0197 - val_accuracy: 0.0435\n",
            "Epoch 87/100\n",
            "46/46 - 0s - loss: 0.0011 - accuracy: 0.0217 - val_loss: 0.0201 - val_accuracy: 0.0435\n",
            "Epoch 88/100\n",
            "46/46 - 0s - loss: 0.0012 - accuracy: 0.0217 - val_loss: 0.0174 - val_accuracy: 0.0435\n",
            "Epoch 89/100\n",
            "46/46 - 0s - loss: 0.0012 - accuracy: 0.0217 - val_loss: 0.0174 - val_accuracy: 0.0435\n",
            "Epoch 90/100\n",
            "46/46 - 0s - loss: 0.0014 - accuracy: 0.0217 - val_loss: 0.0183 - val_accuracy: 0.0435\n",
            "Epoch 91/100\n",
            "46/46 - 0s - loss: 0.0012 - accuracy: 0.0217 - val_loss: 0.0186 - val_accuracy: 0.0435\n",
            "Epoch 92/100\n",
            "46/46 - 0s - loss: 0.0013 - accuracy: 0.0217 - val_loss: 0.0178 - val_accuracy: 0.0435\n",
            "Epoch 93/100\n",
            "46/46 - 0s - loss: 0.0013 - accuracy: 0.0217 - val_loss: 0.0188 - val_accuracy: 0.0435\n",
            "Epoch 94/100\n",
            "46/46 - 0s - loss: 0.0011 - accuracy: 0.0217 - val_loss: 0.0186 - val_accuracy: 0.0435\n",
            "Epoch 95/100\n",
            "46/46 - 0s - loss: 0.0011 - accuracy: 0.0217 - val_loss: 0.0182 - val_accuracy: 0.0435\n",
            "Epoch 96/100\n",
            "46/46 - 0s - loss: 0.0012 - accuracy: 0.0217 - val_loss: 0.0194 - val_accuracy: 0.0435\n",
            "Epoch 97/100\n",
            "46/46 - 0s - loss: 0.0011 - accuracy: 0.0217 - val_loss: 0.0177 - val_accuracy: 0.0435\n",
            "Epoch 98/100\n",
            "46/46 - 0s - loss: 0.0012 - accuracy: 0.0217 - val_loss: 0.0209 - val_accuracy: 0.0435\n",
            "Epoch 99/100\n",
            "46/46 - 0s - loss: 0.0012 - accuracy: 0.0217 - val_loss: 0.0195 - val_accuracy: 0.0435\n",
            "Epoch 100/100\n",
            "46/46 - 0s - loss: 0.0011 - accuracy: 0.0217 - val_loss: 0.0200 - val_accuracy: 0.0435\n"
          ],
          "name": "stdout"
        }
      ]
    },
    {
      "cell_type": "code",
      "metadata": {
        "colab": {
          "base_uri": "https://localhost:8080/",
          "height": 404
        },
        "id": "NxKo0rUTu086",
        "outputId": "275ee775-04e1-46e1-9a00-77ccabc7d2ed"
      },
      "source": [
        "plt.figure(figsize=(12,6))\n",
        "plt.plot(history.history['loss'])\n",
        "plt.plot(history.history['val_loss'])\n",
        "plt.title('model loss')\n",
        "plt.ylabel('loss')\n",
        "plt.xlabel('epoch')\n",
        "plt.legend(['train', 'test'], loc='upper right')\n",
        "plt.show()"
      ],
      "execution_count": null,
      "outputs": [
        {
          "output_type": "display_data",
          "data": {
            "image/png": "[encoded data removed]",
            "text/plain": [
              "<Figure size 864x432 with 1 Axes>"
            ]
          },
          "metadata": {
            "tags": [],
            "needs_background": "light"
          }
        }
      ]
    },
    {
      "cell_type": "code",
      "metadata": {
        "colab": {
          "base_uri": "https://localhost:8080/"
        },
        "id": "eaCKTG3Mr5nL",
        "outputId": "825a55b8-d943-4eeb-aed1-0daf8e6318bf"
      },
      "source": [
        "# make predictions\n",
        "trainPredict = model.predict(trainX)\n",
        "testPredict = model.predict(testX)\n",
        "# invert predictions\n",
        "trainPredict = scaler.inverse_transform(trainPredict)\n",
        "trainY = scaler.inverse_transform([trainY])\n",
        "testPredict = scaler.inverse_transform(testPredict)\n",
        "testY = scaler.inverse_transform([testY])\n",
        "# calculate root mean squared error\n",
        "trainScore = math.sqrt(mean_squared_error(trainY[0], trainPredict[:,0]))\n",
        "print('Train Score: %.2f RMSE' % (trainScore))\n",
        "testScore = math.sqrt(mean_squared_error(testY[0], testPredict[:,0]))\n",
        "print('Test Score: %.2f RMSE' % (testScore))"
      ],
      "execution_count": null,
      "outputs": [
        {
          "output_type": "stream",
          "text": [
            "Train Score: 2.38 RMSE\n",
            "Test Score: 10.09 RMSE\n"
          ],
          "name": "stdout"
        }
      ]
    },
    {
      "cell_type": "code",
      "metadata": {
        "colab": {
          "base_uri": "https://localhost:8080/",
          "height": 374
        },
        "id": "DUre0K60sTGY",
        "outputId": "df88303e-5916-4908-f17c-44fec9a4c767"
      },
      "source": [
        "# shift train predictions for plotting\n",
        "trainPredictPlot = np.empty_like(dataset)\n",
        "trainPredictPlot[:, :] = np.nan\n",
        "trainPredictPlot[look_back:len(trainPredict)+look_back, :] = trainPredict\n",
        "# shift test predictions for plotting\n",
        "testPredictPlot = np.empty_like(dataset)\n",
        "testPredictPlot[:, :] = np.nan\n",
        "testPredictPlot[len(trainPredict)+(look_back*2)+1:len(dataset)-1, :] = testPredict\n",
        "# plot baseline and predictions\n",
        "plt.figure(figsize = (12,6))\n",
        "plt.plot(scaler.inverse_transform(dataset))\n",
        "plt.plot(trainPredictPlot)\n",
        "plt.plot(testPredictPlot)\n",
        "plt.legend(['original dataset','train predicted','test predicted'])\n",
        "plt.show()"
      ],
      "execution_count": null,
      "outputs": [
        {
          "output_type": "display_data",
          "data": {
            "image/png": "[encoded data removed]",
            "text/plain": [
              "<Figure size 864x432 with 1 Axes>"
            ]
          },
          "metadata": {
            "tags": [],
            "needs_background": "light"
          }
        }
      ]
    },
    {
      "cell_type": "code",
      "metadata": {
        "id": "UZdMsQX4sS72"
      },
      "source": [
        "from scipy.optimize import curve_fit"
      ],
      "execution_count": null,
      "outputs": []
    },
    {
      "cell_type": "code",
      "metadata": {
        "id": "VlOuP3Lh3nTz"
      },
      "source": [
        "# define the true objective function\n",
        "def objective(x, a, b, c, d,e,f):\n",
        "\treturn a * (x**5) + b*(x**4) + c*(x**3) + d*(x**2) + e*x + f"
      ],
      "execution_count": null,
      "outputs": []
    },
    {
      "cell_type": "code",
      "metadata": {
        "colab": {
          "base_uri": "https://localhost:8080/"
        },
        "id": "0cadBQJN35L3",
        "outputId": "7644dca1-9918-426a-d3c9-b5b914c623a5"
      },
      "source": [
        "popt, _ = curve_fit(objective,time, knee_r)\n",
        "print(popt)\n",
        "a,b,c,d,e,f = popt"
      ],
      "execution_count": null,
      "outputs": [
        {
          "output_type": "stream",
          "text": [
            "[  3119.31051486 -15923.92917669  31143.00746571 -29112.78271167\n",
            "  12985.58956761  -2221.9742216 ]\n"
          ],
          "name": "stdout"
        }
      ]
    },
    {
      "cell_type": "code",
      "metadata": {
        "colab": {
          "base_uri": "https://localhost:8080/",
          "height": 265
        },
        "id": "2c2Wj7xg4Y88",
        "outputId": "4ee2d623-9747-4d1b-ba65-1e361ea3ea36"
      },
      "source": [
        "y_line = objective(time,a,b,c,d,e,f)\n",
        "plt.plot(time,y_line,c='r',)\n",
        "plt.scatter(time,knee_r);\n",
        "plt.show()\n"
      ],
      "execution_count": null,
      "outputs": [
        {
          "output_type": "display_data",
          "data": {
            "image/png": "[encoded data removed]",
            "text/plain": [
              "<Figure size 432x288 with 1 Axes>"
            ]
          },
          "metadata": {
            "tags": [],
            "needs_background": "light"
          }
        }
      ]
    },
    {
      "cell_type": "markdown",
      "metadata": {
        "id": "3qVEApEMzO3u"
      },
      "source": [
        "##Left Knee trajectory "
      ]
    },
    {
      "cell_type": "code",
      "metadata": {
        "id": "b5rtGYEb5Kem"
      },
      "source": [
        "data = knee_l.reshape((-1,1))"
      ],
      "execution_count": null,
      "outputs": []
    },
    {
      "cell_type": "code",
      "metadata": {
        "id": "76wle7JIzWhi"
      },
      "source": [
        "# normalize the dataset\n",
        "scaler = MinMaxScaler(feature_range=(0, 1))\n",
        "dataset = scaler.fit_transform(data)"
      ],
      "execution_count": null,
      "outputs": []
    },
    {
      "cell_type": "code",
      "metadata": {
        "colab": {
          "base_uri": "https://localhost:8080/"
        },
        "id": "up2NDMbTzkO-",
        "outputId": "5c091771-76fd-4b1f-f064-6ee8eecd084b"
      },
      "source": [
        "# split into train and test sets\n",
        "train_size = int(len(dataset) * 0.67)\n",
        "test_size = len(dataset) - train_size\n",
        "train, test = dataset[0:train_size,:], dataset[train_size:len(dataset),:]\n",
        "print(len(train), len(test))"
      ],
      "execution_count": null,
      "outputs": [
        {
          "output_type": "stream",
          "text": [
            "48 25\n"
          ],
          "name": "stdout"
        }
      ]
    },
    {
      "cell_type": "code",
      "metadata": {
        "id": "dfYvUMwpzqyf"
      },
      "source": [
        "# convert an array of values into a dataset matrix\n",
        "def create_dataset(dataset, look_back=1):\n",
        "\tdataX, dataY = [], []\n",
        "\tfor i in range(len(dataset)-look_back-1):\n",
        "\t\ta = dataset[i:(i+look_back), 0]\n",
        "\t\tdataX.append(a)\n",
        "\t\tdataY.append(dataset[i + look_back, 0])\n",
        "\treturn np.array(dataX), np.array(dataY)"
      ],
      "execution_count": null,
      "outputs": []
    },
    {
      "cell_type": "code",
      "metadata": {
        "id": "2Qw2BmzNztxN"
      },
      "source": [
        "# reshape into X=t and Y=t+1\n",
        "look_back = 1\n",
        "trainX, trainY = create_dataset(train, look_back)\n",
        "testX, testY = create_dataset(test, look_back)"
      ],
      "execution_count": null,
      "outputs": []
    },
    {
      "cell_type": "code",
      "metadata": {
        "colab": {
          "base_uri": "https://localhost:8080/"
        },
        "id": "zl26-HIWzvaQ",
        "outputId": "d48fda56-c955-4e9c-cc13-ae12b0dd4f33"
      },
      "source": [
        "print(trainX.shape,trainY.shape)\n",
        "print(trainX)"
      ],
      "execution_count": null,
      "outputs": [
        {
          "output_type": "stream",
          "text": [
            "(46, 1) (46,)\n",
            "[[9.07402962e-01]\n",
            " [9.21378262e-01]\n",
            " [9.35771261e-01]\n",
            " [9.47445009e-01]\n",
            " [9.56073571e-01]\n",
            " [9.69413857e-01]\n",
            " [9.81465736e-01]\n",
            " [9.90040215e-01]\n",
            " [9.95207193e-01]\n",
            " [1.00000000e+00]\n",
            " [9.99557126e-01]\n",
            " [9.89361778e-01]\n",
            " [9.79989207e-01]\n",
            " [9.63263260e-01]\n",
            " [9.40868356e-01]\n",
            " [9.15950609e-01]\n",
            " [8.84084722e-01]\n",
            " [8.42292492e-01]\n",
            " [7.90324937e-01]\n",
            " [7.22795731e-01]\n",
            " [6.31320872e-01]\n",
            " [5.35075734e-01]\n",
            " [4.33637871e-01]\n",
            " [3.37394883e-01]\n",
            " [2.50602549e-01]\n",
            " [1.78677191e-01]\n",
            " [1.18961242e-01]\n",
            " [7.11815600e-02]\n",
            " [3.62427580e-02]\n",
            " [1.23778959e-02]\n",
            " [5.67798648e-04]\n",
            " [0.00000000e+00]\n",
            " [1.18612879e-02]\n",
            " [3.34824739e-02]\n",
            " [6.44951262e-02]\n",
            " [1.08061208e-01]\n",
            " [1.60090835e-01]\n",
            " [2.21577398e-01]\n",
            " [2.90405907e-01]\n",
            " [3.67123970e-01]\n",
            " [4.47464259e-01]\n",
            " [5.34219361e-01]\n",
            " [6.18766296e-01]\n",
            " [7.03675987e-01]\n",
            " [7.81702767e-01]\n",
            " [8.55240958e-01]]\n"
          ],
          "name": "stdout"
        }
      ]
    },
    {
      "cell_type": "code",
      "metadata": {
        "colab": {
          "base_uri": "https://localhost:8080/"
        },
        "id": "v-IL7_bAzxrT",
        "outputId": "0d39832a-e369-4722-ae52-f1b55e0ecbc7"
      },
      "source": [
        "print(trainY)"
      ],
      "execution_count": null,
      "outputs": [
        {
          "output_type": "stream",
          "text": [
            "[9.21378262e-01 9.35771261e-01 9.47445009e-01 9.56073571e-01\n",
            " 9.69413857e-01 9.81465736e-01 9.90040215e-01 9.95207193e-01\n",
            " 1.00000000e+00 9.99557126e-01 9.89361778e-01 9.79989207e-01\n",
            " 9.63263260e-01 9.40868356e-01 9.15950609e-01 8.84084722e-01\n",
            " 8.42292492e-01 7.90324937e-01 7.22795731e-01 6.31320872e-01\n",
            " 5.35075734e-01 4.33637871e-01 3.37394883e-01 2.50602549e-01\n",
            " 1.78677191e-01 1.18961242e-01 7.11815600e-02 3.62427580e-02\n",
            " 1.23778959e-02 5.67798648e-04 0.00000000e+00 1.18612879e-02\n",
            " 3.34824739e-02 6.44951262e-02 1.08061208e-01 1.60090835e-01\n",
            " 2.21577398e-01 2.90405907e-01 3.67123970e-01 4.47464259e-01\n",
            " 5.34219361e-01 6.18766296e-01 7.03675987e-01 7.81702767e-01\n",
            " 8.55240958e-01 9.14115523e-01]\n"
          ],
          "name": "stdout"
        }
      ]
    },
    {
      "cell_type": "code",
      "metadata": {
        "id": "eWLJgor8z63p"
      },
      "source": [
        "# reshape input to be [samples, time steps, features]\n",
        "trainX = np.reshape(trainX, (trainX.shape[0], 1, trainX.shape[1]))\n",
        "testX = np.reshape(testX, (testX.shape[0], 1, testX.shape[1]))"
      ],
      "execution_count": null,
      "outputs": []
    },
    {
      "cell_type": "code",
      "metadata": {
        "colab": {
          "base_uri": "https://localhost:8080/"
        },
        "id": "E-5hqyuSz8_L",
        "outputId": "989bd0a9-c2b9-469f-a2a2-9dde20ec532d"
      },
      "source": [
        "print(trainX.shape,testX.shape)"
      ],
      "execution_count": null,
      "outputs": [
        {
          "output_type": "stream",
          "text": [
            "(46, 1, 1) (23, 1, 1)\n"
          ],
          "name": "stdout"
        }
      ]
    },
    {
      "cell_type": "code",
      "metadata": {
        "colab": {
          "base_uri": "https://localhost:8080/"
        },
        "id": "v4sJShZD0Asp",
        "outputId": "6cde6520-0c6f-445c-959e-94f33613f492"
      },
      "source": [
        "# create and fit the LSTM network\n",
        "model = Sequential()\n",
        "model.add(LSTM(50, activation = 'relu',input_shape=(1, look_back)))\n",
        "model.add(Dense(1))\n",
        "model.compile(loss='mean_squared_error', optimizer='adam')\n",
        "history = model.fit(trainX, trainY,validation_data=(testX,testY), epochs=100, batch_size=1, verbose=2)"
      ],
      "execution_count": null,
      "outputs": [
        {
          "output_type": "stream",
          "text": [
            "Epoch 1/100\n",
            "46/46 - 1s - loss: 0.4017 - val_loss: 0.4821\n",
            "Epoch 2/100\n",
            "46/46 - 0s - loss: 0.3000 - val_loss: 0.3374\n",
            "Epoch 3/100\n",
            "46/46 - 0s - loss: 0.2014 - val_loss: 0.1970\n",
            "Epoch 4/100\n",
            "46/46 - 0s - loss: 0.1154 - val_loss: 0.0941\n",
            "Epoch 5/100\n",
            "46/46 - 0s - loss: 0.0641 - val_loss: 0.0307\n",
            "Epoch 6/100\n",
            "46/46 - 0s - loss: 0.0431 - val_loss: 0.0103\n",
            "Epoch 7/100\n",
            "46/46 - 0s - loss: 0.0371 - val_loss: 0.0054\n",
            "Epoch 8/100\n",
            "46/46 - 0s - loss: 0.0327 - val_loss: 0.0039\n",
            "Epoch 9/100\n",
            "46/46 - 0s - loss: 0.0294 - val_loss: 0.0022\n",
            "Epoch 10/100\n",
            "46/46 - 0s - loss: 0.0261 - val_loss: 0.0023\n",
            "Epoch 11/100\n",
            "46/46 - 0s - loss: 0.0232 - val_loss: 0.0025\n",
            "Epoch 12/100\n",
            "46/46 - 0s - loss: 0.0202 - val_loss: 0.0013\n",
            "Epoch 13/100\n",
            "46/46 - 0s - loss: 0.0179 - val_loss: 0.0014\n",
            "Epoch 14/100\n",
            "46/46 - 0s - loss: 0.0154 - val_loss: 0.0011\n",
            "Epoch 15/100\n",
            "46/46 - 0s - loss: 0.0133 - val_loss: 9.4625e-04\n",
            "Epoch 16/100\n",
            "46/46 - 0s - loss: 0.0116 - val_loss: 9.5657e-04\n",
            "Epoch 17/100\n",
            "46/46 - 0s - loss: 0.0099 - val_loss: 8.6562e-04\n",
            "Epoch 18/100\n",
            "46/46 - 0s - loss: 0.0088 - val_loss: 6.9297e-04\n",
            "Epoch 19/100\n",
            "46/46 - 0s - loss: 0.0075 - val_loss: 7.5691e-04\n",
            "Epoch 20/100\n",
            "46/46 - 0s - loss: 0.0066 - val_loss: 6.5997e-04\n",
            "Epoch 21/100\n",
            "46/46 - 0s - loss: 0.0059 - val_loss: 6.6308e-04\n",
            "Epoch 22/100\n",
            "46/46 - 0s - loss: 0.0054 - val_loss: 6.9506e-04\n",
            "Epoch 23/100\n",
            "46/46 - 0s - loss: 0.0048 - val_loss: 6.0957e-04\n",
            "Epoch 24/100\n",
            "46/46 - 0s - loss: 0.0045 - val_loss: 8.8131e-04\n",
            "Epoch 25/100\n",
            "46/46 - 0s - loss: 0.0042 - val_loss: 8.5583e-04\n",
            "Epoch 26/100\n",
            "46/46 - 0s - loss: 0.0041 - val_loss: 0.0011\n",
            "Epoch 27/100\n",
            "46/46 - 0s - loss: 0.0039 - val_loss: 9.9563e-04\n",
            "Epoch 28/100\n",
            "46/46 - 0s - loss: 0.0037 - val_loss: 7.8685e-04\n",
            "Epoch 29/100\n",
            "46/46 - 0s - loss: 0.0036 - val_loss: 8.1571e-04\n",
            "Epoch 30/100\n",
            "46/46 - 0s - loss: 0.0036 - val_loss: 9.5341e-04\n",
            "Epoch 31/100\n",
            "46/46 - 0s - loss: 0.0036 - val_loss: 8.7065e-04\n",
            "Epoch 32/100\n",
            "46/46 - 0s - loss: 0.0036 - val_loss: 8.2505e-04\n",
            "Epoch 33/100\n",
            "46/46 - 0s - loss: 0.0036 - val_loss: 8.4533e-04\n",
            "Epoch 34/100\n",
            "46/46 - 0s - loss: 0.0036 - val_loss: 8.5600e-04\n",
            "Epoch 35/100\n",
            "46/46 - 0s - loss: 0.0035 - val_loss: 0.0011\n",
            "Epoch 36/100\n",
            "46/46 - 0s - loss: 0.0035 - val_loss: 0.0011\n",
            "Epoch 37/100\n",
            "46/46 - 0s - loss: 0.0035 - val_loss: 0.0010\n",
            "Epoch 38/100\n",
            "46/46 - 0s - loss: 0.0035 - val_loss: 0.0011\n",
            "Epoch 39/100\n",
            "46/46 - 0s - loss: 0.0035 - val_loss: 0.0011\n",
            "Epoch 40/100\n",
            "46/46 - 0s - loss: 0.0036 - val_loss: 0.0017\n",
            "Epoch 41/100\n",
            "46/46 - 0s - loss: 0.0035 - val_loss: 9.1944e-04\n",
            "Epoch 42/100\n",
            "46/46 - 0s - loss: 0.0034 - val_loss: 8.8421e-04\n",
            "Epoch 43/100\n",
            "46/46 - 0s - loss: 0.0034 - val_loss: 8.8795e-04\n",
            "Epoch 44/100\n",
            "46/46 - 0s - loss: 0.0037 - val_loss: 0.0013\n",
            "Epoch 45/100\n",
            "46/46 - 0s - loss: 0.0035 - val_loss: 9.6198e-04\n",
            "Epoch 46/100\n",
            "46/46 - 0s - loss: 0.0034 - val_loss: 9.6809e-04\n",
            "Epoch 47/100\n",
            "46/46 - 0s - loss: 0.0035 - val_loss: 9.8617e-04\n",
            "Epoch 48/100\n",
            "46/46 - 0s - loss: 0.0036 - val_loss: 0.0018\n",
            "Epoch 49/100\n",
            "46/46 - 0s - loss: 0.0035 - val_loss: 8.6810e-04\n",
            "Epoch 50/100\n",
            "46/46 - 0s - loss: 0.0035 - val_loss: 8.8163e-04\n",
            "Epoch 51/100\n",
            "46/46 - 0s - loss: 0.0035 - val_loss: 0.0011\n",
            "Epoch 52/100\n",
            "46/46 - 0s - loss: 0.0034 - val_loss: 8.6509e-04\n",
            "Epoch 53/100\n",
            "46/46 - 0s - loss: 0.0034 - val_loss: 9.7817e-04\n",
            "Epoch 54/100\n",
            "46/46 - 0s - loss: 0.0034 - val_loss: 8.7047e-04\n",
            "Epoch 55/100\n",
            "46/46 - 0s - loss: 0.0035 - val_loss: 0.0012\n",
            "Epoch 56/100\n",
            "46/46 - 0s - loss: 0.0034 - val_loss: 8.6208e-04\n",
            "Epoch 57/100\n",
            "46/46 - 0s - loss: 0.0034 - val_loss: 8.5112e-04\n",
            "Epoch 58/100\n",
            "46/46 - 0s - loss: 0.0034 - val_loss: 9.8298e-04\n",
            "Epoch 59/100\n",
            "46/46 - 0s - loss: 0.0035 - val_loss: 0.0011\n",
            "Epoch 60/100\n",
            "46/46 - 0s - loss: 0.0035 - val_loss: 8.5568e-04\n",
            "Epoch 61/100\n",
            "46/46 - 0s - loss: 0.0034 - val_loss: 0.0011\n",
            "Epoch 62/100\n",
            "46/46 - 0s - loss: 0.0034 - val_loss: 0.0016\n",
            "Epoch 63/100\n",
            "46/46 - 0s - loss: 0.0036 - val_loss: 8.7461e-04\n",
            "Epoch 64/100\n",
            "46/46 - 0s - loss: 0.0033 - val_loss: 9.4656e-04\n",
            "Epoch 65/100\n",
            "46/46 - 0s - loss: 0.0035 - val_loss: 8.2532e-04\n",
            "Epoch 66/100\n",
            "46/46 - 0s - loss: 0.0034 - val_loss: 8.3086e-04\n",
            "Epoch 67/100\n",
            "46/46 - 0s - loss: 0.0034 - val_loss: 8.8391e-04\n",
            "Epoch 68/100\n",
            "46/46 - 0s - loss: 0.0034 - val_loss: 8.2202e-04\n",
            "Epoch 69/100\n",
            "46/46 - 0s - loss: 0.0034 - val_loss: 8.7573e-04\n",
            "Epoch 70/100\n",
            "46/46 - 0s - loss: 0.0035 - val_loss: 8.2285e-04\n",
            "Epoch 71/100\n",
            "46/46 - 0s - loss: 0.0034 - val_loss: 8.4707e-04\n",
            "Epoch 72/100\n",
            "46/46 - 0s - loss: 0.0034 - val_loss: 9.1371e-04\n",
            "Epoch 73/100\n",
            "46/46 - 0s - loss: 0.0034 - val_loss: 8.6626e-04\n",
            "Epoch 74/100\n",
            "46/46 - 0s - loss: 0.0034 - val_loss: 9.0288e-04\n",
            "Epoch 75/100\n",
            "46/46 - 0s - loss: 0.0034 - val_loss: 8.2455e-04\n",
            "Epoch 76/100\n",
            "46/46 - 0s - loss: 0.0033 - val_loss: 9.5422e-04\n",
            "Epoch 77/100\n",
            "46/46 - 0s - loss: 0.0033 - val_loss: 7.9522e-04\n",
            "Epoch 78/100\n",
            "46/46 - 0s - loss: 0.0032 - val_loss: 0.0014\n",
            "Epoch 79/100\n",
            "46/46 - 0s - loss: 0.0034 - val_loss: 8.8881e-04\n",
            "Epoch 80/100\n",
            "46/46 - 0s - loss: 0.0035 - val_loss: 9.0315e-04\n",
            "Epoch 81/100\n",
            "46/46 - 0s - loss: 0.0034 - val_loss: 9.6474e-04\n",
            "Epoch 82/100\n",
            "46/46 - 0s - loss: 0.0035 - val_loss: 0.0011\n",
            "Epoch 83/100\n",
            "46/46 - 0s - loss: 0.0036 - val_loss: 0.0017\n",
            "Epoch 84/100\n",
            "46/46 - 0s - loss: 0.0034 - val_loss: 7.8778e-04\n",
            "Epoch 85/100\n",
            "46/46 - 0s - loss: 0.0034 - val_loss: 0.0010\n",
            "Epoch 86/100\n",
            "46/46 - 0s - loss: 0.0033 - val_loss: 7.8996e-04\n",
            "Epoch 87/100\n",
            "46/46 - 0s - loss: 0.0036 - val_loss: 0.0012\n",
            "Epoch 88/100\n",
            "46/46 - 0s - loss: 0.0034 - val_loss: 7.9747e-04\n",
            "Epoch 89/100\n",
            "46/46 - 0s - loss: 0.0034 - val_loss: 8.8876e-04\n",
            "Epoch 90/100\n",
            "46/46 - 0s - loss: 0.0036 - val_loss: 8.5422e-04\n",
            "Epoch 91/100\n",
            "46/46 - 0s - loss: 0.0034 - val_loss: 0.0012\n",
            "Epoch 92/100\n",
            "46/46 - 0s - loss: 0.0034 - val_loss: 9.2755e-04\n",
            "Epoch 93/100\n",
            "46/46 - 0s - loss: 0.0035 - val_loss: 8.0739e-04\n",
            "Epoch 94/100\n",
            "46/46 - 0s - loss: 0.0033 - val_loss: 7.9516e-04\n",
            "Epoch 95/100\n",
            "46/46 - 0s - loss: 0.0033 - val_loss: 8.0631e-04\n",
            "Epoch 96/100\n",
            "46/46 - 0s - loss: 0.0033 - val_loss: 9.5107e-04\n",
            "Epoch 97/100\n",
            "46/46 - 0s - loss: 0.0033 - val_loss: 7.6371e-04\n",
            "Epoch 98/100\n",
            "46/46 - 0s - loss: 0.0034 - val_loss: 7.6803e-04\n",
            "Epoch 99/100\n",
            "46/46 - 0s - loss: 0.0034 - val_loss: 0.0011\n",
            "Epoch 100/100\n",
            "46/46 - 0s - loss: 0.0034 - val_loss: 9.9636e-04\n"
          ],
          "name": "stdout"
        }
      ]
    },
    {
      "cell_type": "code",
      "metadata": {
        "colab": {
          "base_uri": "https://localhost:8080/",
          "height": 404
        },
        "id": "z-R5FaGN0Y7R",
        "outputId": "c1012249-7c6d-46fa-ea7b-6df1a416a970"
      },
      "source": [
        "plt.figure(figsize=(12,6))\n",
        "plt.plot(history.history['loss'])\n",
        "plt.plot(history.history['val_loss'])\n",
        "plt.title('model loss')\n",
        "plt.ylabel('loss')\n",
        "plt.xlabel('epoch')\n",
        "plt.legend(['train', 'test'], loc='upper right')\n",
        "plt.show()"
      ],
      "execution_count": null,
      "outputs": [
        {
          "output_type": "display_data",
          "data": {
            "image/png": "[encoded data removed]",
            "text/plain": [
              "<Figure size 864x432 with 1 Axes>"
            ]
          },
          "metadata": {
            "tags": [],
            "needs_background": "light"
          }
        }
      ]
    },
    {
      "cell_type": "code",
      "metadata": {
        "colab": {
          "base_uri": "https://localhost:8080/"
        },
        "id": "hGUUw54_0yQt",
        "outputId": "d0edbc4c-9f88-4f44-e48c-8096c02368aa"
      },
      "source": [
        "# make predictions\n",
        "trainPredict = model.predict(trainX)\n",
        "testPredict = model.predict(testX)\n",
        "# invert predictions\n",
        "trainPredict = scaler.inverse_transform(trainPredict)\n",
        "trainY = scaler.inverse_transform([trainY])\n",
        "testPredict = scaler.inverse_transform(testPredict)\n",
        "testY = scaler.inverse_transform([testY])\n",
        "# calculate root mean squared error\n",
        "trainScore = math.sqrt(mean_squared_error(trainY[0], trainPredict[:,0]))\n",
        "print('Train Score: %.2f RMSE' % (trainScore))\n",
        "testScore = math.sqrt(mean_squared_error(testY[0], testPredict[:,0]))\n",
        "print('Test Score: %.2f RMSE' % (testScore))"
      ],
      "execution_count": null,
      "outputs": [
        {
          "output_type": "stream",
          "text": [
            "Train Score: 4.09 RMSE\n",
            "Test Score: 2.26 RMSE\n"
          ],
          "name": "stdout"
        }
      ]
    },
    {
      "cell_type": "code",
      "metadata": {
        "colab": {
          "base_uri": "https://localhost:8080/",
          "height": 374
        },
        "id": "xIoR-fmI03CW",
        "outputId": "338d0c3e-4121-43e6-82db-d731289c4a25"
      },
      "source": [
        "# shift train predictions for plotting\n",
        "trainPredictPlot = np.empty_like(dataset)\n",
        "trainPredictPlot[:, :] = np.nan\n",
        "trainPredictPlot[look_back:len(trainPredict)+look_back, :] = trainPredict\n",
        "# shift test predictions for plotting\n",
        "testPredictPlot = np.empty_like(dataset)\n",
        "testPredictPlot[:, :] = np.nan\n",
        "testPredictPlot[len(trainPredict)+(look_back*2)+1:len(dataset)-1, :] = testPredict\n",
        "# plot baseline and predictions\n",
        "plt.figure(figsize = (12,6))\n",
        "plt.plot(scaler.inverse_transform(dataset))\n",
        "plt.plot(trainPredictPlot)\n",
        "plt.plot(testPredictPlot)\n",
        "plt.legend(['original dataset','train predicted','test predicted'])\n",
        "plt.show()"
      ],
      "execution_count": null,
      "outputs": [
        {
          "output_type": "display_data",
          "data": {
            "image/png": "[encoded data removed]",
            "text/plain": [
              "<Figure size 864x432 with 1 Axes>"
            ]
          },
          "metadata": {
            "tags": [],
            "needs_background": "light"
          }
        }
      ]
    },
    {
      "cell_type": "code",
      "metadata": {
        "colab": {
          "base_uri": "https://localhost:8080/"
        },
        "id": "0oHyG04e06rv",
        "outputId": "c079b944-4e1c-4ef0-eba8-d3bb60d936f8"
      },
      "source": [
        "popt, _ = curve_fit(objective,time, knee_l)\n",
        "print(popt)\n",
        "a,b,c,d,e,f = popt"
      ],
      "execution_count": null,
      "outputs": [
        {
          "output_type": "stream",
          "text": [
            "[  3380.66299981 -17789.32110191  35755.01428687 -33926.95564746\n",
            "  14998.29191813  -2464.45418441]\n"
          ],
          "name": "stdout"
        }
      ]
    },
    {
      "cell_type": "code",
      "metadata": {
        "colab": {
          "base_uri": "https://localhost:8080/",
          "height": 268
        },
        "id": "i1P3PSRN1J-f",
        "outputId": "f9942fba-73c3-4958-92af-586bbaa25cd5"
      },
      "source": [
        "y_line = objective(time,a,b,c,d,e,f)\n",
        "plt.plot(time,y_line,c='r',)\n",
        "plt.scatter(time,knee_l);\n",
        "plt.show()\n"
      ],
      "execution_count": null,
      "outputs": [
        {
          "output_type": "display_data",
          "data": {
            "image/png": "[encoded data removed]",
            "text/plain": [
              "<Figure size 432x288 with 1 Axes>"
            ]
          },
          "metadata": {
            "tags": [],
            "needs_background": "light"
          }
        }
      ]
    },
    {
      "cell_type": "markdown",
      "metadata": {
        "id": "PMMXYEeC1hSI"
      },
      "source": [
        "##Right Ankle Trajctory Prediction"
      ]
    },
    {
      "cell_type": "code",
      "metadata": {
        "id": "8LtWIjwX1OQq"
      },
      "source": [
        "data = ankle_r.reshape((-1,1))"
      ],
      "execution_count": null,
      "outputs": []
    },
    {
      "cell_type": "code",
      "metadata": {
        "id": "MVt37OMT1si-"
      },
      "source": [
        "# normalize the dataset\n",
        "scaler = MinMaxScaler(feature_range=(0, 1))\n",
        "dataset = scaler.fit_transform(data)"
      ],
      "execution_count": null,
      "outputs": []
    },
    {
      "cell_type": "code",
      "metadata": {
        "colab": {
          "base_uri": "https://localhost:8080/"
        },
        "id": "pQPLpSI5fD3e",
        "outputId": "067350fa-54a2-469b-9527-27c9e1a5c88f"
      },
      "source": [
        "# split into train and test sets\n",
        "train_size = int(len(dataset) * 0.67)\n",
        "test_size = len(dataset) - train_size\n",
        "train, test = dataset[0:train_size,:], dataset[train_size:len(dataset),:]\n",
        "print(len(train), len(test))"
      ],
      "execution_count": null,
      "outputs": [
        {
          "output_type": "stream",
          "text": [
            "48 25\n"
          ],
          "name": "stdout"
        }
      ]
    },
    {
      "cell_type": "code",
      "metadata": {
        "id": "2uXul70vf0IX"
      },
      "source": [
        "# convert an array of values into a dataset matrix\n",
        "def create_dataset(dataset, look_back=1):\n",
        "\tdataX, dataY = [], []\n",
        "\tfor i in range(len(dataset)-look_back-1):\n",
        "\t\ta = dataset[i:(i+look_back), 0]\n",
        "\t\tdataX.append(a)\n",
        "\t\tdataY.append(dataset[i + look_back, 0])\n",
        "\treturn np.array(dataX), np.array(dataY)"
      ],
      "execution_count": null,
      "outputs": []
    },
    {
      "cell_type": "code",
      "metadata": {
        "id": "7xvBudlHf4EJ"
      },
      "source": [
        "# reshape into X=t and Y=t+1\n",
        "look_back = 1\n",
        "trainX, trainY = create_dataset(train, look_back)\n",
        "testX, testY = create_dataset(test, look_back)"
      ],
      "execution_count": null,
      "outputs": []
    },
    {
      "cell_type": "code",
      "metadata": {
        "colab": {
          "base_uri": "https://localhost:8080/"
        },
        "id": "woxtPjmEf9EF",
        "outputId": "d78ff0e5-2254-40f8-e4c8-ab37bcdfdd41"
      },
      "source": [
        "print(trainX.shape,trainY.shape)\n",
        "# print(trainX)"
      ],
      "execution_count": null,
      "outputs": [
        {
          "output_type": "stream",
          "text": [
            "(46, 1) (46,)\n"
          ],
          "name": "stdout"
        }
      ]
    },
    {
      "cell_type": "code",
      "metadata": {
        "id": "9a8aeJ1SgEqb"
      },
      "source": [
        "# reshape input to be [samples, time steps, features]\n",
        "trainX = np.reshape(trainX, (trainX.shape[0], 1, trainX.shape[1]))\n",
        "testX = np.reshape(testX, (testX.shape[0], 1, testX.shape[1]))"
      ],
      "execution_count": null,
      "outputs": []
    },
    {
      "cell_type": "code",
      "metadata": {
        "colab": {
          "base_uri": "https://localhost:8080/"
        },
        "id": "8Ffpi4emgEnP",
        "outputId": "0a5fa273-42f1-41a7-8264-15f0851f24c9"
      },
      "source": [
        "print(trainX.shape)"
      ],
      "execution_count": null,
      "outputs": [
        {
          "output_type": "stream",
          "text": [
            "(46, 1, 1)\n"
          ],
          "name": "stdout"
        }
      ]
    },
    {
      "cell_type": "code",
      "metadata": {
        "colab": {
          "base_uri": "https://localhost:8080/"
        },
        "id": "xVInmzqygEdc",
        "outputId": "554d073c-4cd6-453f-dbd5-5ab14b830b3d"
      },
      "source": [
        "# create and fit the LSTM network\n",
        "model = Sequential()\n",
        "model.add(LSTM(50, activation = 'relu',input_shape=(1, look_back)))\n",
        "model.add(Dense(1))\n",
        "model.compile(loss='mean_squared_error', optimizer='adam')\n",
        "history = model.fit(trainX, trainY,validation_data=(testX,testY), epochs=100, batch_size=1, verbose=2)"
      ],
      "execution_count": null,
      "outputs": [
        {
          "output_type": "stream",
          "text": [
            "Epoch 1/100\n",
            "46/46 - 2s - loss: 0.2751 - val_loss: 0.2771\n",
            "Epoch 2/100\n",
            "46/46 - 0s - loss: 0.1587 - val_loss: 0.1572\n",
            "Epoch 3/100\n",
            "46/46 - 0s - loss: 0.0667 - val_loss: 0.0781\n",
            "Epoch 4/100\n",
            "46/46 - 0s - loss: 0.0213 - val_loss: 0.0476\n",
            "Epoch 5/100\n",
            "46/46 - 0s - loss: 0.0110 - val_loss: 0.0421\n",
            "Epoch 6/100\n",
            "46/46 - 0s - loss: 0.0098 - val_loss: 0.0404\n",
            "Epoch 7/100\n",
            "46/46 - 0s - loss: 0.0095 - val_loss: 0.0388\n",
            "Epoch 8/100\n",
            "46/46 - 0s - loss: 0.0089 - val_loss: 0.0370\n",
            "Epoch 9/100\n",
            "46/46 - 0s - loss: 0.0084 - val_loss: 0.0354\n",
            "Epoch 10/100\n",
            "46/46 - 0s - loss: 0.0081 - val_loss: 0.0338\n",
            "Epoch 11/100\n",
            "46/46 - 0s - loss: 0.0077 - val_loss: 0.0320\n",
            "Epoch 12/100\n",
            "46/46 - 0s - loss: 0.0072 - val_loss: 0.0304\n",
            "Epoch 13/100\n",
            "46/46 - 0s - loss: 0.0067 - val_loss: 0.0288\n",
            "Epoch 14/100\n",
            "46/46 - 0s - loss: 0.0065 - val_loss: 0.0272\n",
            "Epoch 15/100\n",
            "46/46 - 0s - loss: 0.0060 - val_loss: 0.0257\n",
            "Epoch 16/100\n",
            "46/46 - 0s - loss: 0.0058 - val_loss: 0.0244\n",
            "Epoch 17/100\n",
            "46/46 - 0s - loss: 0.0053 - val_loss: 0.0229\n",
            "Epoch 18/100\n",
            "46/46 - 0s - loss: 0.0051 - val_loss: 0.0215\n",
            "Epoch 19/100\n",
            "46/46 - 0s - loss: 0.0045 - val_loss: 0.0203\n",
            "Epoch 20/100\n",
            "46/46 - 0s - loss: 0.0041 - val_loss: 0.0191\n",
            "Epoch 21/100\n",
            "46/46 - 0s - loss: 0.0038 - val_loss: 0.0179\n",
            "Epoch 22/100\n",
            "46/46 - 0s - loss: 0.0036 - val_loss: 0.0169\n",
            "Epoch 23/100\n",
            "46/46 - 0s - loss: 0.0032 - val_loss: 0.0157\n",
            "Epoch 24/100\n",
            "46/46 - 0s - loss: 0.0029 - val_loss: 0.0149\n",
            "Epoch 25/100\n",
            "46/46 - 0s - loss: 0.0026 - val_loss: 0.0144\n",
            "Epoch 26/100\n",
            "46/46 - 0s - loss: 0.0024 - val_loss: 0.0135\n",
            "Epoch 27/100\n",
            "46/46 - 0s - loss: 0.0022 - val_loss: 0.0126\n",
            "Epoch 28/100\n",
            "46/46 - 0s - loss: 0.0019 - val_loss: 0.0121\n",
            "Epoch 29/100\n",
            "46/46 - 0s - loss: 0.0017 - val_loss: 0.0117\n",
            "Epoch 30/100\n",
            "46/46 - 0s - loss: 0.0016 - val_loss: 0.0110\n",
            "Epoch 31/100\n",
            "46/46 - 0s - loss: 0.0014 - val_loss: 0.0105\n",
            "Epoch 32/100\n",
            "46/46 - 0s - loss: 0.0013 - val_loss: 0.0110\n",
            "Epoch 33/100\n",
            "46/46 - 0s - loss: 0.0011 - val_loss: 0.0101\n",
            "Epoch 34/100\n",
            "46/46 - 0s - loss: 0.0011 - val_loss: 0.0103\n",
            "Epoch 35/100\n",
            "46/46 - 0s - loss: 9.4471e-04 - val_loss: 0.0098\n",
            "Epoch 36/100\n",
            "46/46 - 0s - loss: 9.2568e-04 - val_loss: 0.0101\n",
            "Epoch 37/100\n",
            "46/46 - 0s - loss: 7.9533e-04 - val_loss: 0.0099\n",
            "Epoch 38/100\n",
            "46/46 - 0s - loss: 7.3814e-04 - val_loss: 0.0092\n",
            "Epoch 39/100\n",
            "46/46 - 0s - loss: 6.9866e-04 - val_loss: 0.0094\n",
            "Epoch 40/100\n",
            "46/46 - 0s - loss: 6.4286e-04 - val_loss: 0.0100\n",
            "Epoch 41/100\n",
            "46/46 - 0s - loss: 5.9571e-04 - val_loss: 0.0090\n",
            "Epoch 42/100\n",
            "46/46 - 0s - loss: 6.0915e-04 - val_loss: 0.0091\n",
            "Epoch 43/100\n",
            "46/46 - 0s - loss: 5.6767e-04 - val_loss: 0.0101\n",
            "Epoch 44/100\n",
            "46/46 - 0s - loss: 5.3302e-04 - val_loss: 0.0094\n",
            "Epoch 45/100\n",
            "46/46 - 0s - loss: 5.5465e-04 - val_loss: 0.0091\n",
            "Epoch 46/100\n",
            "46/46 - 0s - loss: 5.4246e-04 - val_loss: 0.0102\n",
            "Epoch 47/100\n",
            "46/46 - 0s - loss: 4.8472e-04 - val_loss: 0.0091\n",
            "Epoch 48/100\n",
            "46/46 - 0s - loss: 4.9784e-04 - val_loss: 0.0101\n",
            "Epoch 49/100\n",
            "46/46 - 0s - loss: 5.0793e-04 - val_loss: 0.0098\n",
            "Epoch 50/100\n",
            "46/46 - 0s - loss: 5.1415e-04 - val_loss: 0.0092\n",
            "Epoch 51/100\n",
            "46/46 - 0s - loss: 5.0631e-04 - val_loss: 0.0091\n",
            "Epoch 52/100\n",
            "46/46 - 0s - loss: 5.0022e-04 - val_loss: 0.0104\n",
            "Epoch 53/100\n",
            "46/46 - 0s - loss: 4.8272e-04 - val_loss: 0.0108\n",
            "Epoch 54/100\n",
            "46/46 - 0s - loss: 4.6512e-04 - val_loss: 0.0096\n",
            "Epoch 55/100\n",
            "46/46 - 0s - loss: 4.7921e-04 - val_loss: 0.0097\n",
            "Epoch 56/100\n",
            "46/46 - 0s - loss: 5.5437e-04 - val_loss: 0.0099\n",
            "Epoch 57/100\n",
            "46/46 - 0s - loss: 4.7946e-04 - val_loss: 0.0107\n",
            "Epoch 58/100\n",
            "46/46 - 0s - loss: 4.9821e-04 - val_loss: 0.0104\n",
            "Epoch 59/100\n",
            "46/46 - 0s - loss: 4.7107e-04 - val_loss: 0.0097\n",
            "Epoch 60/100\n",
            "46/46 - 0s - loss: 5.0597e-04 - val_loss: 0.0102\n",
            "Epoch 61/100\n",
            "46/46 - 0s - loss: 4.9426e-04 - val_loss: 0.0099\n",
            "Epoch 62/100\n",
            "46/46 - 0s - loss: 4.7246e-04 - val_loss: 0.0105\n",
            "Epoch 63/100\n",
            "46/46 - 0s - loss: 4.6290e-04 - val_loss: 0.0090\n",
            "Epoch 64/100\n",
            "46/46 - 0s - loss: 4.8206e-04 - val_loss: 0.0097\n",
            "Epoch 65/100\n",
            "46/46 - 0s - loss: 4.9296e-04 - val_loss: 0.0090\n",
            "Epoch 66/100\n",
            "46/46 - 0s - loss: 4.8537e-04 - val_loss: 0.0101\n",
            "Epoch 67/100\n",
            "46/46 - 0s - loss: 4.7018e-04 - val_loss: 0.0113\n",
            "Epoch 68/100\n",
            "46/46 - 0s - loss: 5.0719e-04 - val_loss: 0.0092\n",
            "Epoch 69/100\n",
            "46/46 - 0s - loss: 4.9492e-04 - val_loss: 0.0109\n",
            "Epoch 70/100\n",
            "46/46 - 0s - loss: 4.6652e-04 - val_loss: 0.0098\n",
            "Epoch 71/100\n",
            "46/46 - 0s - loss: 5.0387e-04 - val_loss: 0.0102\n",
            "Epoch 72/100\n",
            "46/46 - 0s - loss: 4.8117e-04 - val_loss: 0.0092\n",
            "Epoch 73/100\n",
            "46/46 - 0s - loss: 5.4949e-04 - val_loss: 0.0101\n",
            "Epoch 74/100\n",
            "46/46 - 0s - loss: 5.5193e-04 - val_loss: 0.0116\n",
            "Epoch 75/100\n",
            "46/46 - 0s - loss: 5.1924e-04 - val_loss: 0.0106\n",
            "Epoch 76/100\n",
            "46/46 - 0s - loss: 4.9811e-04 - val_loss: 0.0104\n",
            "Epoch 77/100\n",
            "46/46 - 0s - loss: 5.1081e-04 - val_loss: 0.0100\n",
            "Epoch 78/100\n",
            "46/46 - 0s - loss: 4.7660e-04 - val_loss: 0.0115\n",
            "Epoch 79/100\n",
            "46/46 - 0s - loss: 4.7551e-04 - val_loss: 0.0095\n",
            "Epoch 80/100\n",
            "46/46 - 0s - loss: 4.8272e-04 - val_loss: 0.0101\n",
            "Epoch 81/100\n",
            "46/46 - 0s - loss: 5.0179e-04 - val_loss: 0.0115\n",
            "Epoch 82/100\n",
            "46/46 - 0s - loss: 5.1404e-04 - val_loss: 0.0111\n",
            "Epoch 83/100\n",
            "46/46 - 0s - loss: 5.6789e-04 - val_loss: 0.0100\n",
            "Epoch 84/100\n",
            "46/46 - 0s - loss: 4.9424e-04 - val_loss: 0.0094\n",
            "Epoch 85/100\n",
            "46/46 - 0s - loss: 4.9639e-04 - val_loss: 0.0104\n",
            "Epoch 86/100\n",
            "46/46 - 0s - loss: 5.1130e-04 - val_loss: 0.0104\n",
            "Epoch 87/100\n",
            "46/46 - 0s - loss: 5.3526e-04 - val_loss: 0.0117\n",
            "Epoch 88/100\n",
            "46/46 - 0s - loss: 5.0735e-04 - val_loss: 0.0092\n",
            "Epoch 89/100\n",
            "46/46 - 0s - loss: 6.1480e-04 - val_loss: 0.0100\n",
            "Epoch 90/100\n",
            "46/46 - 0s - loss: 4.8688e-04 - val_loss: 0.0101\n",
            "Epoch 91/100\n",
            "46/46 - 0s - loss: 4.7840e-04 - val_loss: 0.0100\n",
            "Epoch 92/100\n",
            "46/46 - 0s - loss: 4.7635e-04 - val_loss: 0.0096\n",
            "Epoch 93/100\n",
            "46/46 - 0s - loss: 4.6639e-04 - val_loss: 0.0086\n",
            "Epoch 94/100\n",
            "46/46 - 0s - loss: 5.1974e-04 - val_loss: 0.0102\n",
            "Epoch 95/100\n",
            "46/46 - 0s - loss: 4.8207e-04 - val_loss: 0.0104\n",
            "Epoch 96/100\n",
            "46/46 - 0s - loss: 5.2379e-04 - val_loss: 0.0099\n",
            "Epoch 97/100\n",
            "46/46 - 0s - loss: 5.1419e-04 - val_loss: 0.0104\n",
            "Epoch 98/100\n",
            "46/46 - 0s - loss: 4.7354e-04 - val_loss: 0.0099\n",
            "Epoch 99/100\n",
            "46/46 - 0s - loss: 4.9199e-04 - val_loss: 0.0100\n",
            "Epoch 100/100\n",
            "46/46 - 0s - loss: 5.0393e-04 - val_loss: 0.0100\n"
          ],
          "name": "stdout"
        }
      ]
    },
    {
      "cell_type": "code",
      "metadata": {
        "colab": {
          "base_uri": "https://localhost:8080/",
          "height": 404
        },
        "id": "8UxxPqiaghSX",
        "outputId": "1701fe69-6ef8-4cf9-a3fd-ea8ac52535e2"
      },
      "source": [
        "plt.figure(figsize=(12,6))\n",
        "plt.plot(history.history['loss'])\n",
        "plt.plot(history.history['val_loss'])\n",
        "plt.title('model loss')\n",
        "plt.ylabel('loss')\n",
        "plt.xlabel('epoch')\n",
        "plt.legend(['train', 'test'], loc='upper right')\n",
        "plt.show()"
      ],
      "execution_count": null,
      "outputs": [
        {
          "output_type": "display_data",
          "data": {
            "image/png": "[encoded data removed]",
            "text/plain": [
              "<Figure size 864x432 with 1 Axes>"
            ]
          },
          "metadata": {
            "tags": [],
            "needs_background": "light"
          }
        }
      ]
    },
    {
      "cell_type": "code",
      "metadata": {
        "colab": {
          "base_uri": "https://localhost:8080/"
        },
        "id": "0xw9J-bZglmz",
        "outputId": "77c6b2dc-758b-4acc-eb91-9a134b5eeadb"
      },
      "source": [
        "# make predictions\n",
        "trainPredict = model.predict(trainX)\n",
        "testPredict = model.predict(testX)\n",
        "# invert predictions\n",
        "trainPredict = scaler.inverse_transform(trainPredict)\n",
        "trainY = scaler.inverse_transform([trainY])\n",
        "testPredict = scaler.inverse_transform(testPredict)\n",
        "testY = scaler.inverse_transform([testY])\n",
        "# calculate root mean squared error\n",
        "trainScore = math.sqrt(mean_squared_error(trainY[0], trainPredict[:,0]))\n",
        "print('Train Score: %.2f RMSE' % (trainScore))\n",
        "testScore = math.sqrt(mean_squared_error(testY[0], testPredict[:,0]))\n",
        "print('Test Score: %.2f RMSE' % (testScore))"
      ],
      "execution_count": null,
      "outputs": [
        {
          "output_type": "stream",
          "text": [
            "Train Score: 0.48 RMSE\n",
            "Test Score: 2.28 RMSE\n"
          ],
          "name": "stdout"
        }
      ]
    },
    {
      "cell_type": "code",
      "metadata": {
        "colab": {
          "base_uri": "https://localhost:8080/",
          "height": 374
        },
        "id": "nrsfQrb3gsUD",
        "outputId": "7cd0a0f0-2f02-4c6b-c0d7-31d0ff9541d3"
      },
      "source": [
        "# shift train predictions for plotting\n",
        "trainPredictPlot = np.empty_like(dataset)\n",
        "trainPredictPlot[:, :] = np.nan\n",
        "trainPredictPlot[look_back:len(trainPredict)+look_back, :] = trainPredict\n",
        "# shift test predictions for plotting\n",
        "testPredictPlot = np.empty_like(dataset)\n",
        "testPredictPlot[:, :] = np.nan\n",
        "testPredictPlot[len(trainPredict)+(look_back*2)+1:len(dataset)-1, :] = testPredict\n",
        "# plot baseline and predictions\n",
        "plt.figure(figsize = (12,6))\n",
        "plt.plot(scaler.inverse_transform(dataset))\n",
        "plt.plot(trainPredictPlot)\n",
        "plt.plot(testPredictPlot)\n",
        "plt.legend(['original dataset','train predicted','test predicted'])\n",
        "plt.show()"
      ],
      "execution_count": null,
      "outputs": [
        {
          "output_type": "display_data",
          "data": {
            "image/png": "[encoded data removed]",
            "text/plain": [
              "<Figure size 864x432 with 1 Axes>"
            ]
          },
          "metadata": {
            "tags": [],
            "needs_background": "light"
          }
        }
      ]
    },
    {
      "cell_type": "code",
      "metadata": {
        "colab": {
          "base_uri": "https://localhost:8080/"
        },
        "id": "m0gdaMOCg0Nk",
        "outputId": "5d5db4db-e7f6-439b-f74a-6f646daf5c58"
      },
      "source": [
        "popt, _ = curve_fit(objective,time, ankle_r)\n",
        "print(popt)\n",
        "a,b,c,d,e,f = popt"
      ],
      "execution_count": null,
      "outputs": [
        {
          "output_type": "stream",
          "text": [
            "[  759.16522744 -3628.12625011  6532.35273734 -5500.709935\n",
            "  2164.69360699  -318.29489381]\n"
          ],
          "name": "stdout"
        }
      ]
    },
    {
      "cell_type": "code",
      "metadata": {
        "colab": {
          "base_uri": "https://localhost:8080/",
          "height": 265
        },
        "id": "sL0BM7_Rg0AL",
        "outputId": "1d967032-7278-4c9b-b460-17e9850b1f76"
      },
      "source": [
        "y_line = objective(time,a,b,c,d,e,f)\n",
        "plt.plot(time,y_line,c='r',)\n",
        "plt.plot(time,ankle_r);\n",
        "plt.show()\n"
      ],
      "execution_count": null,
      "outputs": [
        {
          "output_type": "display_data",
          "data": {
            "image/png": "[encoded data removed]",
            "text/plain": [
              "<Figure size 432x288 with 1 Axes>"
            ]
          },
          "metadata": {
            "tags": [],
            "needs_background": "light"
          }
        }
      ]
    },
    {
      "cell_type": "markdown",
      "metadata": {
        "id": "dtxkjz-yhgxr"
      },
      "source": [
        "##Left Hip Trajectory"
      ]
    },
    {
      "cell_type": "code",
      "metadata": {
        "id": "fDjmJaoBhgMN"
      },
      "source": [
        "data = hip_l.reshape((-1,1))"
      ],
      "execution_count": null,
      "outputs": []
    },
    {
      "cell_type": "code",
      "metadata": {
        "id": "DU3RuJm2hZts"
      },
      "source": [
        "# normalize the dataset\n",
        "scaler = MinMaxScaler(feature_range=(0, 1))\n",
        "dataset = scaler.fit_transform(data)"
      ],
      "execution_count": null,
      "outputs": []
    },
    {
      "cell_type": "code",
      "metadata": {
        "colab": {
          "base_uri": "https://localhost:8080/"
        },
        "id": "WbKmvP_O8a9T",
        "outputId": "24f0695d-5b3c-4d65-9f5c-015e1c2025fc"
      },
      "source": [
        "# split into train and test sets\n",
        "train_size = int(len(dataset) * 0.67)\n",
        "test_size = len(dataset) - train_size\n",
        "train, test = dataset[0:train_size,:], dataset[train_size:len(dataset),:]\n",
        "print(len(train), len(test))"
      ],
      "execution_count": null,
      "outputs": [
        {
          "output_type": "stream",
          "text": [
            "48 25\n"
          ],
          "name": "stdout"
        }
      ]
    },
    {
      "cell_type": "code",
      "metadata": {
        "id": "_SjjaL6G8cou"
      },
      "source": [
        "# convert an array of values into a dataset matrix\n",
        "def create_dataset(dataset, look_back=1):\n",
        "\tdataX, dataY = [], []\n",
        "\tfor i in range(len(dataset)-look_back-1):\n",
        "\t\ta = dataset[i:(i+look_back), 0]\n",
        "\t\tdataX.append(a)\n",
        "\t\tdataY.append(dataset[i + look_back, 0])\n",
        "\treturn np.array(dataX), np.array(dataY)"
      ],
      "execution_count": null,
      "outputs": []
    },
    {
      "cell_type": "code",
      "metadata": {
        "id": "PqsNBbeO8eiq"
      },
      "source": [
        "# reshape into X=t and Y=t+1\n",
        "look_back = 1\n",
        "trainX, trainY = create_dataset(train, look_back)\n",
        "testX, testY = create_dataset(test, look_back)"
      ],
      "execution_count": null,
      "outputs": []
    },
    {
      "cell_type": "code",
      "metadata": {
        "colab": {
          "base_uri": "https://localhost:8080/"
        },
        "id": "kRltBAjt8gBJ",
        "outputId": "66d7e519-84b0-4cf8-e22e-e35ace797357"
      },
      "source": [
        "print(trainX.shape,trainY.shape)\n",
        "# print(trainX)"
      ],
      "execution_count": null,
      "outputs": [
        {
          "output_type": "stream",
          "text": [
            "(46, 1) (46,)\n"
          ],
          "name": "stdout"
        }
      ]
    },
    {
      "cell_type": "code",
      "metadata": {
        "id": "fScrB3KT8hcL"
      },
      "source": [
        "# reshape input to be [samples, time steps, features]\n",
        "trainX = np.reshape(trainX, (trainX.shape[0], 1, trainX.shape[1]))\n",
        "testX = np.reshape(testX, (testX.shape[0], 1, testX.shape[1]))"
      ],
      "execution_count": null,
      "outputs": []
    },
    {
      "cell_type": "code",
      "metadata": {
        "colab": {
          "base_uri": "https://localhost:8080/"
        },
        "id": "Wk33gvBx8jPG",
        "outputId": "1d2d185d-1081-4b88-cb04-85fe833ed812"
      },
      "source": [
        "print(trainX.shape)"
      ],
      "execution_count": null,
      "outputs": [
        {
          "output_type": "stream",
          "text": [
            "(46, 1, 1)\n"
          ],
          "name": "stdout"
        }
      ]
    },
    {
      "cell_type": "code",
      "metadata": {
        "colab": {
          "base_uri": "https://localhost:8080/"
        },
        "id": "APubH3P58law",
        "outputId": "4340d225-0719-4923-83b9-fc5a7b9d93cd"
      },
      "source": [
        "# create and fit the LSTM network\n",
        "model = Sequential()\n",
        "model.add(LSTM(50, activation = 'relu',input_shape=(1, look_back)))\n",
        "model.add(Dense(1))\n",
        "model.compile(loss='mean_squared_error', optimizer='adam')\n",
        "history = model.fit(trainX, trainY,validation_data=(testX,testY), epochs=100, batch_size=1, verbose=2)"
      ],
      "execution_count": null,
      "outputs": [
        {
          "output_type": "stream",
          "text": [
            "Epoch 1/100\n",
            "46/46 - 1s - loss: 0.3664 - val_loss: 0.5834\n",
            "Epoch 2/100\n",
            "46/46 - 0s - loss: 0.2923 - val_loss: 0.4530\n",
            "Epoch 3/100\n",
            "46/46 - 0s - loss: 0.2256 - val_loss: 0.3227\n",
            "Epoch 4/100\n",
            "46/46 - 0s - loss: 0.1634 - val_loss: 0.2070\n",
            "Epoch 5/100\n",
            "46/46 - 0s - loss: 0.1131 - val_loss: 0.1227\n",
            "Epoch 6/100\n",
            "46/46 - 0s - loss: 0.0801 - val_loss: 0.0658\n",
            "Epoch 7/100\n",
            "46/46 - 0s - loss: 0.0612 - val_loss: 0.0384\n",
            "Epoch 8/100\n",
            "46/46 - 0s - loss: 0.0521 - val_loss: 0.0226\n",
            "Epoch 9/100\n",
            "46/46 - 0s - loss: 0.0458 - val_loss: 0.0145\n",
            "Epoch 10/100\n",
            "46/46 - 0s - loss: 0.0410 - val_loss: 0.0128\n",
            "Epoch 11/100\n",
            "46/46 - 0s - loss: 0.0360 - val_loss: 0.0076\n",
            "Epoch 12/100\n",
            "46/46 - 0s - loss: 0.0317 - val_loss: 0.0065\n",
            "Epoch 13/100\n",
            "46/46 - 0s - loss: 0.0280 - val_loss: 0.0058\n",
            "Epoch 14/100\n",
            "46/46 - 0s - loss: 0.0240 - val_loss: 0.0037\n",
            "Epoch 15/100\n",
            "46/46 - 0s - loss: 0.0206 - val_loss: 0.0029\n",
            "Epoch 16/100\n",
            "46/46 - 0s - loss: 0.0176 - val_loss: 0.0023\n",
            "Epoch 17/100\n",
            "46/46 - 0s - loss: 0.0148 - val_loss: 0.0019\n",
            "Epoch 18/100\n",
            "46/46 - 0s - loss: 0.0125 - val_loss: 0.0012\n",
            "Epoch 19/100\n",
            "46/46 - 0s - loss: 0.0105 - val_loss: 8.4236e-04\n",
            "Epoch 20/100\n",
            "46/46 - 0s - loss: 0.0088 - val_loss: 6.0485e-04\n",
            "Epoch 21/100\n",
            "46/46 - 0s - loss: 0.0074 - val_loss: 4.2535e-04\n",
            "Epoch 22/100\n",
            "46/46 - 0s - loss: 0.0063 - val_loss: 3.1372e-04\n",
            "Epoch 23/100\n",
            "46/46 - 0s - loss: 0.0054 - val_loss: 3.8216e-04\n",
            "Epoch 24/100\n",
            "46/46 - 0s - loss: 0.0047 - val_loss: 3.2434e-04\n",
            "Epoch 25/100\n",
            "46/46 - 0s - loss: 0.0042 - val_loss: 2.6851e-04\n",
            "Epoch 26/100\n",
            "46/46 - 0s - loss: 0.0038 - val_loss: 5.3919e-04\n",
            "Epoch 27/100\n",
            "46/46 - 0s - loss: 0.0036 - val_loss: 5.4130e-04\n",
            "Epoch 28/100\n",
            "46/46 - 0s - loss: 0.0033 - val_loss: 4.6573e-04\n",
            "Epoch 29/100\n",
            "46/46 - 0s - loss: 0.0031 - val_loss: 5.5840e-04\n",
            "Epoch 30/100\n",
            "46/46 - 0s - loss: 0.0031 - val_loss: 5.5080e-04\n",
            "Epoch 31/100\n",
            "46/46 - 0s - loss: 0.0030 - val_loss: 5.2589e-04\n",
            "Epoch 32/100\n",
            "46/46 - 0s - loss: 0.0029 - val_loss: 7.9458e-04\n",
            "Epoch 33/100\n",
            "46/46 - 0s - loss: 0.0029 - val_loss: 3.7759e-04\n",
            "Epoch 34/100\n",
            "46/46 - 0s - loss: 0.0028 - val_loss: 0.0011\n",
            "Epoch 35/100\n",
            "46/46 - 0s - loss: 0.0028 - val_loss: 8.2228e-04\n",
            "Epoch 36/100\n",
            "46/46 - 0s - loss: 0.0028 - val_loss: 7.1165e-04\n",
            "Epoch 37/100\n",
            "46/46 - 0s - loss: 0.0029 - val_loss: 7.7183e-04\n",
            "Epoch 38/100\n",
            "46/46 - 0s - loss: 0.0028 - val_loss: 7.0237e-04\n",
            "Epoch 39/100\n",
            "46/46 - 0s - loss: 0.0029 - val_loss: 0.0014\n",
            "Epoch 40/100\n",
            "46/46 - 0s - loss: 0.0028 - val_loss: 8.2043e-04\n",
            "Epoch 41/100\n",
            "46/46 - 0s - loss: 0.0028 - val_loss: 4.6313e-04\n",
            "Epoch 42/100\n",
            "46/46 - 0s - loss: 0.0028 - val_loss: 6.8923e-04\n",
            "Epoch 43/100\n",
            "46/46 - 0s - loss: 0.0028 - val_loss: 8.0125e-04\n",
            "Epoch 44/100\n",
            "46/46 - 0s - loss: 0.0028 - val_loss: 8.7490e-04\n",
            "Epoch 45/100\n",
            "46/46 - 0s - loss: 0.0028 - val_loss: 8.8570e-04\n",
            "Epoch 46/100\n",
            "46/46 - 0s - loss: 0.0027 - val_loss: 8.8951e-04\n",
            "Epoch 47/100\n",
            "46/46 - 0s - loss: 0.0028 - val_loss: 0.0011\n",
            "Epoch 48/100\n",
            "46/46 - 0s - loss: 0.0027 - val_loss: 9.5828e-04\n",
            "Epoch 49/100\n",
            "46/46 - 0s - loss: 0.0027 - val_loss: 7.4554e-04\n",
            "Epoch 50/100\n",
            "46/46 - 0s - loss: 0.0027 - val_loss: 6.9918e-04\n",
            "Epoch 51/100\n",
            "46/46 - 0s - loss: 0.0027 - val_loss: 8.2390e-04\n",
            "Epoch 52/100\n",
            "46/46 - 0s - loss: 0.0028 - val_loss: 0.0011\n",
            "Epoch 53/100\n",
            "46/46 - 0s - loss: 0.0027 - val_loss: 5.7034e-04\n",
            "Epoch 54/100\n",
            "46/46 - 0s - loss: 0.0027 - val_loss: 6.3762e-04\n",
            "Epoch 55/100\n",
            "46/46 - 0s - loss: 0.0027 - val_loss: 0.0012\n",
            "Epoch 56/100\n",
            "46/46 - 0s - loss: 0.0027 - val_loss: 9.0614e-04\n",
            "Epoch 57/100\n",
            "46/46 - 0s - loss: 0.0027 - val_loss: 0.0014\n",
            "Epoch 58/100\n",
            "46/46 - 0s - loss: 0.0027 - val_loss: 9.9566e-04\n",
            "Epoch 59/100\n",
            "46/46 - 0s - loss: 0.0027 - val_loss: 0.0013\n",
            "Epoch 60/100\n",
            "46/46 - 0s - loss: 0.0027 - val_loss: 5.6368e-04\n",
            "Epoch 61/100\n",
            "46/46 - 0s - loss: 0.0026 - val_loss: 0.0013\n",
            "Epoch 62/100\n",
            "46/46 - 0s - loss: 0.0027 - val_loss: 8.7227e-04\n",
            "Epoch 63/100\n",
            "46/46 - 0s - loss: 0.0026 - val_loss: 7.7139e-04\n",
            "Epoch 64/100\n",
            "46/46 - 0s - loss: 0.0027 - val_loss: 3.4717e-04\n",
            "Epoch 65/100\n",
            "46/46 - 0s - loss: 0.0027 - val_loss: 4.8378e-04\n",
            "Epoch 66/100\n",
            "46/46 - 0s - loss: 0.0027 - val_loss: 9.2521e-04\n",
            "Epoch 67/100\n",
            "46/46 - 0s - loss: 0.0025 - val_loss: 9.9852e-04\n",
            "Epoch 68/100\n",
            "46/46 - 0s - loss: 0.0026 - val_loss: 0.0016\n",
            "Epoch 69/100\n",
            "46/46 - 0s - loss: 0.0025 - val_loss: 5.5641e-04\n",
            "Epoch 70/100\n",
            "46/46 - 0s - loss: 0.0026 - val_loss: 4.3596e-04\n",
            "Epoch 71/100\n",
            "46/46 - 0s - loss: 0.0025 - val_loss: 0.0015\n",
            "Epoch 72/100\n",
            "46/46 - 0s - loss: 0.0025 - val_loss: 3.8725e-04\n",
            "Epoch 73/100\n",
            "46/46 - 0s - loss: 0.0026 - val_loss: 0.0020\n",
            "Epoch 74/100\n",
            "46/46 - 0s - loss: 0.0025 - val_loss: 5.7900e-04\n",
            "Epoch 75/100\n",
            "46/46 - 0s - loss: 0.0025 - val_loss: 0.0018\n",
            "Epoch 76/100\n",
            "46/46 - 0s - loss: 0.0024 - val_loss: 6.1710e-04\n",
            "Epoch 77/100\n",
            "46/46 - 0s - loss: 0.0025 - val_loss: 0.0021\n",
            "Epoch 78/100\n",
            "46/46 - 0s - loss: 0.0025 - val_loss: 5.5837e-04\n",
            "Epoch 79/100\n",
            "46/46 - 0s - loss: 0.0025 - val_loss: 5.6421e-04\n",
            "Epoch 80/100\n",
            "46/46 - 0s - loss: 0.0024 - val_loss: 0.0012\n",
            "Epoch 81/100\n",
            "46/46 - 0s - loss: 0.0025 - val_loss: 0.0019\n",
            "Epoch 82/100\n",
            "46/46 - 0s - loss: 0.0026 - val_loss: 0.0017\n",
            "Epoch 83/100\n",
            "46/46 - 0s - loss: 0.0026 - val_loss: 8.9082e-04\n",
            "Epoch 84/100\n",
            "46/46 - 0s - loss: 0.0025 - val_loss: 1.5486e-04\n",
            "Epoch 85/100\n",
            "46/46 - 0s - loss: 0.0026 - val_loss: 5.5535e-04\n",
            "Epoch 86/100\n",
            "46/46 - 0s - loss: 0.0024 - val_loss: 0.0018\n",
            "Epoch 87/100\n",
            "46/46 - 0s - loss: 0.0024 - val_loss: 0.0021\n",
            "Epoch 88/100\n",
            "46/46 - 0s - loss: 0.0024 - val_loss: 0.0011\n",
            "Epoch 89/100\n",
            "46/46 - 0s - loss: 0.0023 - val_loss: 0.0011\n",
            "Epoch 90/100\n",
            "46/46 - 0s - loss: 0.0024 - val_loss: 9.3678e-04\n",
            "Epoch 91/100\n",
            "46/46 - 0s - loss: 0.0025 - val_loss: 0.0028\n",
            "Epoch 92/100\n",
            "46/46 - 0s - loss: 0.0024 - val_loss: 4.6581e-04\n",
            "Epoch 93/100\n",
            "46/46 - 0s - loss: 0.0024 - val_loss: 6.4534e-04\n",
            "Epoch 94/100\n",
            "46/46 - 0s - loss: 0.0023 - val_loss: 0.0015\n",
            "Epoch 95/100\n",
            "46/46 - 0s - loss: 0.0024 - val_loss: 0.0014\n",
            "Epoch 96/100\n",
            "46/46 - 0s - loss: 0.0024 - val_loss: 0.0012\n",
            "Epoch 97/100\n",
            "46/46 - 0s - loss: 0.0023 - val_loss: 5.1897e-04\n",
            "Epoch 98/100\n",
            "46/46 - 0s - loss: 0.0023 - val_loss: 4.9658e-04\n",
            "Epoch 99/100\n",
            "46/46 - 0s - loss: 0.0023 - val_loss: 0.0014\n",
            "Epoch 100/100\n",
            "46/46 - 0s - loss: 0.0023 - val_loss: 3.3825e-04\n"
          ],
          "name": "stdout"
        }
      ]
    },
    {
      "cell_type": "code",
      "metadata": {
        "colab": {
          "base_uri": "https://localhost:8080/",
          "height": 404
        },
        "id": "69YPNuNn8rH4",
        "outputId": "cfc173a6-6d91-4bb2-b82e-9bad6af364ec"
      },
      "source": [
        "plt.figure(figsize=(12,6))\n",
        "plt.plot(history.history['loss'])\n",
        "plt.plot(history.history['val_loss'])\n",
        "plt.title('model loss')\n",
        "plt.ylabel('loss')\n",
        "plt.xlabel('epoch')\n",
        "plt.legend(['train', 'test'], loc='upper right')\n",
        "plt.show()"
      ],
      "execution_count": null,
      "outputs": [
        {
          "output_type": "display_data",
          "data": {
            "image/png": "[encoded data removed]",
            "text/plain": [
              "<Figure size 864x432 with 1 Axes>"
            ]
          },
          "metadata": {
            "tags": [],
            "needs_background": "light"
          }
        }
      ]
    },
    {
      "cell_type": "code",
      "metadata": {
        "colab": {
          "base_uri": "https://localhost:8080/"
        },
        "id": "4pJ1f4zc8wLP",
        "outputId": "f547a286-4168-4d7c-e547-b1ad7c78c859"
      },
      "source": [
        "# make predictions\n",
        "trainPredict = model.predict(trainX)\n",
        "testPredict = model.predict(testX)\n",
        "# invert predictions\n",
        "trainPredict = scaler.inverse_transform(trainPredict)\n",
        "trainY = scaler.inverse_transform([trainY])\n",
        "testPredict = scaler.inverse_transform(testPredict)\n",
        "testY = scaler.inverse_transform([testY])\n",
        "# calculate root mean squared error\n",
        "trainScore = math.sqrt(mean_squared_error(trainY[0], trainPredict[:,0]))\n",
        "print('Train Score: %.2f RMSE' % (trainScore))\n",
        "testScore = math.sqrt(mean_squared_error(testY[0], testPredict[:,0]))\n",
        "print('Test Score: %.2f RMSE' % (testScore))"
      ],
      "execution_count": null,
      "outputs": [
        {
          "output_type": "stream",
          "text": [
            "Train Score: 2.10 RMSE\n",
            "Test Score: 0.81 RMSE\n"
          ],
          "name": "stdout"
        }
      ]
    },
    {
      "cell_type": "code",
      "metadata": {
        "colab": {
          "base_uri": "https://localhost:8080/",
          "height": 374
        },
        "id": "uFjhq4ZM80eV",
        "outputId": "80abadf6-266e-4b6b-d15f-8796cbadd747"
      },
      "source": [
        "# shift train predictions for plotting\n",
        "trainPredictPlot = np.empty_like(dataset)\n",
        "trainPredictPlot[:, :] = np.nan\n",
        "trainPredictPlot[look_back:len(trainPredict)+look_back, :] = trainPredict\n",
        "# shift test predictions for plotting\n",
        "testPredictPlot = np.empty_like(dataset)\n",
        "testPredictPlot[:, :] = np.nan\n",
        "testPredictPlot[len(trainPredict)+(look_back*2)+1:len(dataset)-1, :] = testPredict\n",
        "# plot baseline and predictions\n",
        "plt.figure(figsize = (12,6))\n",
        "plt.plot(scaler.inverse_transform(dataset))\n",
        "plt.plot(trainPredictPlot)\n",
        "plt.plot(testPredictPlot)\n",
        "plt.legend(['original dataset','train predicted','test predicted'])\n",
        "plt.show()"
      ],
      "execution_count": null,
      "outputs": [
        {
          "output_type": "display_data",
          "data": {
            "image/png": "[encoded data removed]",
            "text/plain": [
              "<Figure size 864x432 with 1 Axes>"
            ]
          },
          "metadata": {
            "tags": [],
            "needs_background": "light"
          }
        }
      ]
    },
    {
      "cell_type": "code",
      "metadata": {
        "colab": {
          "base_uri": "https://localhost:8080/"
        },
        "id": "Aqq0ZdjD84Tu",
        "outputId": "104f01e8-2870-40dd-c374-2698e1dbfe4e"
      },
      "source": [
        "popt, _ = curve_fit(objective,time, hip_l)\n",
        "print(popt)\n",
        "a,b,c,d,e,f = popt"
      ],
      "execution_count": null,
      "outputs": [
        {
          "output_type": "stream",
          "text": [
            "[ -152.87863573  1160.71692925 -3273.33433753  4193.91206979\n",
            " -2371.32371987   457.98203702]\n"
          ],
          "name": "stdout"
        }
      ]
    },
    {
      "cell_type": "code",
      "metadata": {
        "colab": {
          "base_uri": "https://localhost:8080/",
          "height": 265
        },
        "id": "uuvYmUoI9Bx1",
        "outputId": "29deacda-a82f-4a10-ca7e-4c0d5122657f"
      },
      "source": [
        "y_line = objective(time,a,b,c,d,e,f)\n",
        "plt.plot(time,y_line,c='r',)\n",
        "plt.plot(time,hip_l);\n",
        "plt.show()\n"
      ],
      "execution_count": null,
      "outputs": [
        {
          "output_type": "display_data",
          "data": {
            "image/png": "[encoded data removed]",
            "text/plain": [
              "<Figure size 432x288 with 1 Axes>"
            ]
          },
          "metadata": {
            "tags": [],
            "needs_background": "light"
          }
        }
      ]
    },
    {
      "cell_type": "markdown",
      "metadata": {
        "id": "_KhlJjK19SZm"
      },
      "source": [
        "##Right hip trajectory"
      ]
    },
    {
      "cell_type": "code",
      "metadata": {
        "id": "L925qbD09Kcy"
      },
      "source": [
        "data = hip_r.reshape((-1,1))"
      ],
      "execution_count": null,
      "outputs": []
    },
    {
      "cell_type": "code",
      "metadata": {
        "id": "Vadgk0CG9bdr"
      },
      "source": [
        "# normalize the dataset\n",
        "scaler = MinMaxScaler(feature_range=(0, 1))\n",
        "dataset = scaler.fit_transform(data)"
      ],
      "execution_count": null,
      "outputs": []
    },
    {
      "cell_type": "code",
      "metadata": {
        "colab": {
          "base_uri": "https://localhost:8080/"
        },
        "id": "ZUfEMAu59eUT",
        "outputId": "3cf9bb19-2a47-4028-da40-2bee31d03d52"
      },
      "source": [
        "# split into train and test sets\n",
        "train_size = int(len(dataset) * 0.67)\n",
        "test_size = len(dataset) - train_size\n",
        "train, test = dataset[0:train_size,:], dataset[train_size:len(dataset),:]\n",
        "print(len(train), len(test))"
      ],
      "execution_count": null,
      "outputs": [
        {
          "output_type": "stream",
          "text": [
            "48 25\n"
          ],
          "name": "stdout"
        }
      ]
    },
    {
      "cell_type": "code",
      "metadata": {
        "id": "OxyEr58n9gsI"
      },
      "source": [
        "# convert an array of values into a dataset matrix\n",
        "def create_dataset(dataset, look_back=1):\n",
        "\tdataX, dataY = [], []\n",
        "\tfor i in range(len(dataset)-look_back-1):\n",
        "\t\ta = dataset[i:(i+look_back), 0]\n",
        "\t\tdataX.append(a)\n",
        "\t\tdataY.append(dataset[i + look_back, 0])\n",
        "\treturn np.array(dataX), np.array(dataY)"
      ],
      "execution_count": null,
      "outputs": []
    },
    {
      "cell_type": "code",
      "metadata": {
        "id": "nXuWWzy09jgp"
      },
      "source": [
        "# reshape into X=t and Y=t+1\n",
        "look_back = 1\n",
        "trainX, trainY = create_dataset(train, look_back)\n",
        "testX, testY = create_dataset(test, look_back)"
      ],
      "execution_count": null,
      "outputs": []
    },
    {
      "cell_type": "code",
      "metadata": {
        "colab": {
          "base_uri": "https://localhost:8080/"
        },
        "id": "1D-CSjvu9lx4",
        "outputId": "30bb1426-4ab6-41f0-a6ba-34cecead0b5f"
      },
      "source": [
        "print(trainX.shape,trainY.shape)\n",
        "# print(trainX)"
      ],
      "execution_count": null,
      "outputs": [
        {
          "output_type": "stream",
          "text": [
            "(46, 1) (46,)\n"
          ],
          "name": "stdout"
        }
      ]
    },
    {
      "cell_type": "code",
      "metadata": {
        "id": "srBShYb29n8e"
      },
      "source": [
        "# reshape input to be [samples, time steps, features]\n",
        "trainX = np.reshape(trainX, (trainX.shape[0], 1, trainX.shape[1]))\n",
        "testX = np.reshape(testX, (testX.shape[0], 1, testX.shape[1]))"
      ],
      "execution_count": null,
      "outputs": []
    },
    {
      "cell_type": "code",
      "metadata": {
        "colab": {
          "base_uri": "https://localhost:8080/"
        },
        "id": "fg0udjlm-Ea6",
        "outputId": "e8ba5044-5f95-4eb6-adc4-836b4e034b40"
      },
      "source": [
        "# create and fit the LSTM network\n",
        "model = Sequential()\n",
        "model.add(LSTM(50, activation = 'relu',input_shape=(1, look_back)))\n",
        "model.add(Dense(1))\n",
        "model.compile(loss='mean_squared_error', optimizer='adam')\n",
        "history = model.fit(trainX, trainY,validation_data=(testX,testY), epochs=100, batch_size=1, verbose=2)"
      ],
      "execution_count": null,
      "outputs": [
        {
          "output_type": "stream",
          "text": [
            "Epoch 1/100\n",
            "46/46 - 1s - loss: 0.5164 - val_loss: 0.1403\n",
            "Epoch 2/100\n",
            "46/46 - 0s - loss: 0.3638 - val_loss: 0.0915\n",
            "Epoch 3/100\n",
            "46/46 - 0s - loss: 0.2151 - val_loss: 0.0577\n",
            "Epoch 4/100\n",
            "46/46 - 0s - loss: 0.0984 - val_loss: 0.0505\n",
            "Epoch 5/100\n",
            "46/46 - 0s - loss: 0.0393 - val_loss: 0.0608\n",
            "Epoch 6/100\n",
            "46/46 - 0s - loss: 0.0244 - val_loss: 0.0644\n",
            "Epoch 7/100\n",
            "46/46 - 0s - loss: 0.0222 - val_loss: 0.0642\n",
            "Epoch 8/100\n",
            "46/46 - 0s - loss: 0.0211 - val_loss: 0.0611\n",
            "Epoch 9/100\n",
            "46/46 - 0s - loss: 0.0198 - val_loss: 0.0579\n",
            "Epoch 10/100\n",
            "46/46 - 0s - loss: 0.0186 - val_loss: 0.0532\n",
            "Epoch 11/100\n",
            "46/46 - 0s - loss: 0.0177 - val_loss: 0.0501\n",
            "Epoch 12/100\n",
            "46/46 - 0s - loss: 0.0163 - val_loss: 0.0465\n",
            "Epoch 13/100\n",
            "46/46 - 0s - loss: 0.0154 - val_loss: 0.0425\n",
            "Epoch 14/100\n",
            "46/46 - 0s - loss: 0.0142 - val_loss: 0.0406\n",
            "Epoch 15/100\n",
            "46/46 - 0s - loss: 0.0132 - val_loss: 0.0368\n",
            "Epoch 16/100\n",
            "46/46 - 0s - loss: 0.0119 - val_loss: 0.0339\n",
            "Epoch 17/100\n",
            "46/46 - 0s - loss: 0.0112 - val_loss: 0.0315\n",
            "Epoch 18/100\n",
            "46/46 - 0s - loss: 0.0100 - val_loss: 0.0282\n",
            "Epoch 19/100\n",
            "46/46 - 0s - loss: 0.0090 - val_loss: 0.0264\n",
            "Epoch 20/100\n",
            "46/46 - 0s - loss: 0.0083 - val_loss: 0.0229\n",
            "Epoch 21/100\n",
            "46/46 - 0s - loss: 0.0074 - val_loss: 0.0212\n",
            "Epoch 22/100\n",
            "46/46 - 0s - loss: 0.0066 - val_loss: 0.0192\n",
            "Epoch 23/100\n",
            "46/46 - 0s - loss: 0.0060 - val_loss: 0.0170\n",
            "Epoch 24/100\n",
            "46/46 - 0s - loss: 0.0054 - val_loss: 0.0152\n",
            "Epoch 25/100\n",
            "46/46 - 0s - loss: 0.0046 - val_loss: 0.0141\n",
            "Epoch 26/100\n",
            "46/46 - 0s - loss: 0.0041 - val_loss: 0.0124\n",
            "Epoch 27/100\n",
            "46/46 - 0s - loss: 0.0036 - val_loss: 0.0114\n",
            "Epoch 28/100\n",
            "46/46 - 0s - loss: 0.0031 - val_loss: 0.0102\n",
            "Epoch 29/100\n",
            "46/46 - 0s - loss: 0.0027 - val_loss: 0.0092\n",
            "Epoch 30/100\n",
            "46/46 - 0s - loss: 0.0024 - val_loss: 0.0083\n",
            "Epoch 31/100\n",
            "46/46 - 0s - loss: 0.0020 - val_loss: 0.0077\n",
            "Epoch 32/100\n",
            "46/46 - 0s - loss: 0.0018 - val_loss: 0.0070\n",
            "Epoch 33/100\n",
            "46/46 - 0s - loss: 0.0015 - val_loss: 0.0064\n",
            "Epoch 34/100\n",
            "46/46 - 0s - loss: 0.0013 - val_loss: 0.0061\n",
            "Epoch 35/100\n",
            "46/46 - 0s - loss: 0.0011 - val_loss: 0.0059\n",
            "Epoch 36/100\n",
            "46/46 - 0s - loss: 9.2494e-04 - val_loss: 0.0056\n",
            "Epoch 37/100\n",
            "46/46 - 0s - loss: 7.9800e-04 - val_loss: 0.0053\n",
            "Epoch 38/100\n",
            "46/46 - 0s - loss: 6.7402e-04 - val_loss: 0.0053\n",
            "Epoch 39/100\n",
            "46/46 - 0s - loss: 5.8614e-04 - val_loss: 0.0050\n",
            "Epoch 40/100\n",
            "46/46 - 0s - loss: 5.1339e-04 - val_loss: 0.0049\n",
            "Epoch 41/100\n",
            "46/46 - 0s - loss: 4.3296e-04 - val_loss: 0.0052\n",
            "Epoch 42/100\n",
            "46/46 - 0s - loss: 3.9553e-04 - val_loss: 0.0051\n",
            "Epoch 43/100\n",
            "46/46 - 0s - loss: 3.6323e-04 - val_loss: 0.0049\n",
            "Epoch 44/100\n",
            "46/46 - 0s - loss: 3.3346e-04 - val_loss: 0.0051\n",
            "Epoch 45/100\n",
            "46/46 - 0s - loss: 3.0367e-04 - val_loss: 0.0053\n",
            "Epoch 46/100\n",
            "46/46 - 0s - loss: 2.7785e-04 - val_loss: 0.0050\n",
            "Epoch 47/100\n",
            "46/46 - 0s - loss: 2.7302e-04 - val_loss: 0.0050\n",
            "Epoch 48/100\n",
            "46/46 - 0s - loss: 2.6903e-04 - val_loss: 0.0052\n",
            "Epoch 49/100\n",
            "46/46 - 0s - loss: 2.5881e-04 - val_loss: 0.0056\n",
            "Epoch 50/100\n",
            "46/46 - 0s - loss: 2.4237e-04 - val_loss: 0.0051\n",
            "Epoch 51/100\n",
            "46/46 - 0s - loss: 2.5249e-04 - val_loss: 0.0053\n",
            "Epoch 52/100\n",
            "46/46 - 0s - loss: 2.5557e-04 - val_loss: 0.0053\n",
            "Epoch 53/100\n",
            "46/46 - 0s - loss: 2.3472e-04 - val_loss: 0.0055\n",
            "Epoch 54/100\n",
            "46/46 - 0s - loss: 2.3442e-04 - val_loss: 0.0054\n",
            "Epoch 55/100\n",
            "46/46 - 0s - loss: 2.2830e-04 - val_loss: 0.0057\n",
            "Epoch 56/100\n",
            "46/46 - 0s - loss: 2.5270e-04 - val_loss: 0.0055\n",
            "Epoch 57/100\n",
            "46/46 - 0s - loss: 2.3163e-04 - val_loss: 0.0055\n",
            "Epoch 58/100\n",
            "46/46 - 0s - loss: 2.4181e-04 - val_loss: 0.0055\n",
            "Epoch 59/100\n",
            "46/46 - 0s - loss: 2.7776e-04 - val_loss: 0.0057\n",
            "Epoch 60/100\n",
            "46/46 - 0s - loss: 2.5302e-04 - val_loss: 0.0052\n",
            "Epoch 61/100\n",
            "46/46 - 0s - loss: 2.3664e-04 - val_loss: 0.0054\n",
            "Epoch 62/100\n",
            "46/46 - 0s - loss: 2.4638e-04 - val_loss: 0.0050\n",
            "Epoch 63/100\n",
            "46/46 - 0s - loss: 2.4327e-04 - val_loss: 0.0053\n",
            "Epoch 64/100\n",
            "46/46 - 0s - loss: 2.3380e-04 - val_loss: 0.0055\n",
            "Epoch 65/100\n",
            "46/46 - 0s - loss: 2.2203e-04 - val_loss: 0.0056\n",
            "Epoch 66/100\n",
            "46/46 - 0s - loss: 2.3343e-04 - val_loss: 0.0050\n",
            "Epoch 67/100\n",
            "46/46 - 0s - loss: 2.6232e-04 - val_loss: 0.0056\n",
            "Epoch 68/100\n",
            "46/46 - 0s - loss: 2.4217e-04 - val_loss: 0.0056\n",
            "Epoch 69/100\n",
            "46/46 - 0s - loss: 2.2255e-04 - val_loss: 0.0055\n",
            "Epoch 70/100\n",
            "46/46 - 0s - loss: 2.4342e-04 - val_loss: 0.0052\n",
            "Epoch 71/100\n",
            "46/46 - 0s - loss: 2.8013e-04 - val_loss: 0.0058\n",
            "Epoch 72/100\n",
            "46/46 - 0s - loss: 2.4703e-04 - val_loss: 0.0057\n",
            "Epoch 73/100\n",
            "46/46 - 0s - loss: 2.4233e-04 - val_loss: 0.0059\n",
            "Epoch 74/100\n",
            "46/46 - 0s - loss: 2.6415e-04 - val_loss: 0.0050\n",
            "Epoch 75/100\n",
            "46/46 - 0s - loss: 2.1632e-04 - val_loss: 0.0058\n",
            "Epoch 76/100\n",
            "46/46 - 0s - loss: 2.3887e-04 - val_loss: 0.0054\n",
            "Epoch 77/100\n",
            "46/46 - 0s - loss: 2.4555e-04 - val_loss: 0.0059\n",
            "Epoch 78/100\n",
            "46/46 - 0s - loss: 2.5963e-04 - val_loss: 0.0059\n",
            "Epoch 79/100\n",
            "46/46 - 0s - loss: 2.3394e-04 - val_loss: 0.0056\n",
            "Epoch 80/100\n",
            "46/46 - 0s - loss: 2.2656e-04 - val_loss: 0.0055\n",
            "Epoch 81/100\n",
            "46/46 - 0s - loss: 2.3594e-04 - val_loss: 0.0057\n",
            "Epoch 82/100\n",
            "46/46 - 0s - loss: 2.4405e-04 - val_loss: 0.0058\n",
            "Epoch 83/100\n",
            "46/46 - 0s - loss: 2.4266e-04 - val_loss: 0.0053\n",
            "Epoch 84/100\n",
            "46/46 - 0s - loss: 2.4866e-04 - val_loss: 0.0051\n",
            "Epoch 85/100\n",
            "46/46 - 0s - loss: 2.3589e-04 - val_loss: 0.0059\n",
            "Epoch 86/100\n",
            "46/46 - 0s - loss: 2.3680e-04 - val_loss: 0.0059\n",
            "Epoch 87/100\n",
            "46/46 - 0s - loss: 2.4208e-04 - val_loss: 0.0055\n",
            "Epoch 88/100\n",
            "46/46 - 0s - loss: 2.2747e-04 - val_loss: 0.0061\n",
            "Epoch 89/100\n",
            "46/46 - 0s - loss: 2.6743e-04 - val_loss: 0.0053\n",
            "Epoch 90/100\n",
            "46/46 - 0s - loss: 2.1375e-04 - val_loss: 0.0059\n",
            "Epoch 91/100\n",
            "46/46 - 0s - loss: 2.6485e-04 - val_loss: 0.0061\n",
            "Epoch 92/100\n",
            "46/46 - 0s - loss: 2.2890e-04 - val_loss: 0.0059\n",
            "Epoch 93/100\n",
            "46/46 - 0s - loss: 2.4757e-04 - val_loss: 0.0057\n",
            "Epoch 94/100\n",
            "46/46 - 0s - loss: 2.1708e-04 - val_loss: 0.0047\n",
            "Epoch 95/100\n",
            "46/46 - 0s - loss: 2.2731e-04 - val_loss: 0.0056\n",
            "Epoch 96/100\n",
            "46/46 - 0s - loss: 2.1730e-04 - val_loss: 0.0060\n",
            "Epoch 97/100\n",
            "46/46 - 0s - loss: 2.5120e-04 - val_loss: 0.0058\n",
            "Epoch 98/100\n",
            "46/46 - 0s - loss: 2.3288e-04 - val_loss: 0.0056\n",
            "Epoch 99/100\n",
            "46/46 - 0s - loss: 2.8516e-04 - val_loss: 0.0050\n",
            "Epoch 100/100\n",
            "46/46 - 0s - loss: 2.7588e-04 - val_loss: 0.0058\n"
          ],
          "name": "stdout"
        }
      ]
    },
    {
      "cell_type": "code",
      "metadata": {
        "colab": {
          "base_uri": "https://localhost:8080/",
          "height": 404
        },
        "id": "A0YY3Vie-EWA",
        "outputId": "cddb7dd2-dda4-486a-8979-cb3e93d6457c"
      },
      "source": [
        "plt.figure(figsize=(12,6))\n",
        "plt.plot(history.history['loss'])\n",
        "plt.plot(history.history['val_loss'])\n",
        "plt.title('model loss')\n",
        "plt.ylabel('loss')\n",
        "plt.xlabel('epoch')\n",
        "plt.legend(['train', 'test'], loc='upper right')\n",
        "plt.show()"
      ],
      "execution_count": null,
      "outputs": [
        {
          "output_type": "display_data",
          "data": {
            "image/png": "[encoded data removed]",
            "text/plain": [
              "<Figure size 864x432 with 1 Axes>"
            ]
          },
          "metadata": {
            "tags": [],
            "needs_background": "light"
          }
        }
      ]
    },
    {
      "cell_type": "code",
      "metadata": {
        "colab": {
          "base_uri": "https://localhost:8080/"
        },
        "id": "4ilb0Jz9-K_W",
        "outputId": "fa11b308-cef3-4ae5-a9c9-07412c50be04"
      },
      "source": [
        "# make predictions\n",
        "trainPredict = model.predict(trainX)\n",
        "testPredict = model.predict(testX)\n",
        "# invert predictions\n",
        "trainPredict = scaler.inverse_transform(trainPredict)\n",
        "trainY = scaler.inverse_transform([trainY])\n",
        "testPredict = scaler.inverse_transform(testPredict)\n",
        "testY = scaler.inverse_transform([testY])\n",
        "# calculate root mean squared error\n",
        "trainScore = math.sqrt(mean_squared_error(trainY[0], trainPredict[:,0]))\n",
        "print('Train Score: %.2f RMSE' % (trainScore))\n",
        "testScore = math.sqrt(mean_squared_error(testY[0], testPredict[:,0]))\n",
        "print('Test Score: %.2f RMSE' % (testScore))"
      ],
      "execution_count": null,
      "outputs": [
        {
          "output_type": "stream",
          "text": [
            "Train Score: 0.66 RMSE\n",
            "Test Score: 3.31 RMSE\n"
          ],
          "name": "stdout"
        }
      ]
    },
    {
      "cell_type": "code",
      "metadata": {
        "colab": {
          "base_uri": "https://localhost:8080/",
          "height": 374
        },
        "id": "HjNs04Pn-M7V",
        "outputId": "bae2d063-13ee-4036-f567-5befaaf0094c"
      },
      "source": [
        "# shift train predictions for plotting\n",
        "trainPredictPlot = np.empty_like(dataset)\n",
        "trainPredictPlot[:, :] = np.nan\n",
        "trainPredictPlot[look_back:len(trainPredict)+look_back, :] = trainPredict\n",
        "# shift test predictions for plotting\n",
        "testPredictPlot = np.empty_like(dataset)\n",
        "testPredictPlot[:, :] = np.nan\n",
        "testPredictPlot[len(trainPredict)+(look_back*2)+1:len(dataset)-1, :] = testPredict\n",
        "# plot baseline and predictions\n",
        "plt.figure(figsize = (12,6))\n",
        "plt.plot(scaler.inverse_transform(dataset))\n",
        "plt.plot(trainPredictPlot)\n",
        "plt.plot(testPredictPlot)\n",
        "plt.legend(['original dataset','train predicted','test predicted'])\n",
        "plt.show()"
      ],
      "execution_count": null,
      "outputs": [
        {
          "output_type": "display_data",
          "data": {
            "image/png": "[encoded data removed]",
            "text/plain": [
              "<Figure size 864x432 with 1 Axes>"
            ]
          },
          "metadata": {
            "tags": [],
            "needs_background": "light"
          }
        }
      ]
    },
    {
      "cell_type": "code",
      "metadata": {
        "colab": {
          "base_uri": "https://localhost:8080/"
        },
        "id": "tiXP1s9v-QKu",
        "outputId": "a63bcc85-a9fb-4c38-dd66-3599bfff14e7"
      },
      "source": [
        "popt, _ = curve_fit(objective,time, hip_r)\n",
        "print(popt)\n",
        "a,b,c,d,e,f = popt"
      ],
      "execution_count": null,
      "outputs": [
        {
          "output_type": "stream",
          "text": [
            "[ -871.91650561  4459.58030684 -8494.68065194  7476.1882929\n",
            " -3062.42881912   490.39741976]\n"
          ],
          "name": "stdout"
        }
      ]
    },
    {
      "cell_type": "code",
      "metadata": {
        "colab": {
          "base_uri": "https://localhost:8080/",
          "height": 265
        },
        "id": "zw2g-kYw-VMu",
        "outputId": "12b33a16-970d-4334-a7fd-ae9457189697"
      },
      "source": [
        "y_line = objective(time,a,b,c,d,e,f)\n",
        "plt.plot(time,y_line,c='r',)\n",
        "plt.plot(time,hip_r);\n",
        "plt.show()\n"
      ],
      "execution_count": null,
      "outputs": [
        {
          "output_type": "display_data",
          "data": {
            "image/png": "[encoded data removed]",
            "text/plain": [
              "<Figure size 432x288 with 1 Axes>"
            ]
          },
          "metadata": {
            "tags": [],
            "needs_background": "light"
          }
        }
      ]
    }
  ]
}